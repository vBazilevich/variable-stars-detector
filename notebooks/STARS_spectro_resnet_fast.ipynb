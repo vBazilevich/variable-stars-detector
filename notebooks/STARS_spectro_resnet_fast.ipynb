{
 "cells": [
  {
   "cell_type": "code",
   "execution_count": 1,
   "metadata": {
    "colab": {
     "base_uri": "https://localhost:8080/"
    },
    "id": "arTChmebnEgd",
    "outputId": "5abb267a-8093-4057-c3ca-88976f204d1e"
   },
   "outputs": [
    {
     "name": "stdout",
     "output_type": "stream",
     "text": [
      "Collecting torchmetrics\n",
      "  Downloading torchmetrics-1.3.2-py3-none-any.whl (841 kB)\n",
      "\u001b[?25l     \u001b[90m━━━━━━━━━━━━━━━━━━━━━━━━━━━━━━━━━━━━━━━━\u001b[0m \u001b[32m0.0/841.5 kB\u001b[0m \u001b[31m?\u001b[0m eta \u001b[36m-:--:--\u001b[0m\r",
      "\u001b[2K     \u001b[91m━━━━━━━━━━━\u001b[0m\u001b[91m╸\u001b[0m\u001b[90m━━━━━━━━━━━━━━━━━━━━━━━━━━━━\u001b[0m \u001b[32m245.8/841.5 kB\u001b[0m \u001b[31m7.1 MB/s\u001b[0m eta \u001b[36m0:00:01\u001b[0m\r",
      "\u001b[2K     \u001b[90m━━━━━━━━━━━━━━━━━━━━━━━━━━━━━━━━━━━━━━━━\u001b[0m \u001b[32m841.5/841.5 kB\u001b[0m \u001b[31m16.4 MB/s\u001b[0m eta \u001b[36m0:00:00\u001b[0m\n",
      "\u001b[?25hRequirement already satisfied: numpy>1.20.0 in /usr/local/lib/python3.10/dist-packages (from torchmetrics) (1.25.2)\n",
      "Requirement already satisfied: packaging>17.1 in /usr/local/lib/python3.10/dist-packages (from torchmetrics) (24.0)\n",
      "Requirement already satisfied: torch>=1.10.0 in /usr/local/lib/python3.10/dist-packages (from torchmetrics) (2.2.1+cu121)\n",
      "Collecting lightning-utilities>=0.8.0 (from torchmetrics)\n",
      "  Downloading lightning_utilities-0.11.2-py3-none-any.whl (26 kB)\n",
      "Requirement already satisfied: setuptools in /usr/local/lib/python3.10/dist-packages (from lightning-utilities>=0.8.0->torchmetrics) (67.7.2)\n",
      "Requirement already satisfied: typing-extensions in /usr/local/lib/python3.10/dist-packages (from lightning-utilities>=0.8.0->torchmetrics) (4.11.0)\n",
      "Requirement already satisfied: filelock in /usr/local/lib/python3.10/dist-packages (from torch>=1.10.0->torchmetrics) (3.13.4)\n",
      "Requirement already satisfied: sympy in /usr/local/lib/python3.10/dist-packages (from torch>=1.10.0->torchmetrics) (1.12)\n",
      "Requirement already satisfied: networkx in /usr/local/lib/python3.10/dist-packages (from torch>=1.10.0->torchmetrics) (3.3)\n",
      "Requirement already satisfied: jinja2 in /usr/local/lib/python3.10/dist-packages (from torch>=1.10.0->torchmetrics) (3.1.3)\n",
      "Requirement already satisfied: fsspec in /usr/local/lib/python3.10/dist-packages (from torch>=1.10.0->torchmetrics) (2023.6.0)\n",
      "Collecting nvidia-cuda-nvrtc-cu12==12.1.105 (from torch>=1.10.0->torchmetrics)\n",
      "  Using cached nvidia_cuda_nvrtc_cu12-12.1.105-py3-none-manylinux1_x86_64.whl (23.7 MB)\n",
      "Collecting nvidia-cuda-runtime-cu12==12.1.105 (from torch>=1.10.0->torchmetrics)\n",
      "  Using cached nvidia_cuda_runtime_cu12-12.1.105-py3-none-manylinux1_x86_64.whl (823 kB)\n",
      "Collecting nvidia-cuda-cupti-cu12==12.1.105 (from torch>=1.10.0->torchmetrics)\n",
      "  Using cached nvidia_cuda_cupti_cu12-12.1.105-py3-none-manylinux1_x86_64.whl (14.1 MB)\n",
      "Collecting nvidia-cudnn-cu12==8.9.2.26 (from torch>=1.10.0->torchmetrics)\n",
      "  Using cached nvidia_cudnn_cu12-8.9.2.26-py3-none-manylinux1_x86_64.whl (731.7 MB)\n",
      "Collecting nvidia-cublas-cu12==12.1.3.1 (from torch>=1.10.0->torchmetrics)\n",
      "  Using cached nvidia_cublas_cu12-12.1.3.1-py3-none-manylinux1_x86_64.whl (410.6 MB)\n",
      "Collecting nvidia-cufft-cu12==11.0.2.54 (from torch>=1.10.0->torchmetrics)\n",
      "  Using cached nvidia_cufft_cu12-11.0.2.54-py3-none-manylinux1_x86_64.whl (121.6 MB)\n",
      "Collecting nvidia-curand-cu12==10.3.2.106 (from torch>=1.10.0->torchmetrics)\n",
      "  Using cached nvidia_curand_cu12-10.3.2.106-py3-none-manylinux1_x86_64.whl (56.5 MB)\n",
      "Collecting nvidia-cusolver-cu12==11.4.5.107 (from torch>=1.10.0->torchmetrics)\n",
      "  Using cached nvidia_cusolver_cu12-11.4.5.107-py3-none-manylinux1_x86_64.whl (124.2 MB)\n",
      "Collecting nvidia-cusparse-cu12==12.1.0.106 (from torch>=1.10.0->torchmetrics)\n",
      "  Using cached nvidia_cusparse_cu12-12.1.0.106-py3-none-manylinux1_x86_64.whl (196.0 MB)\n",
      "Collecting nvidia-nccl-cu12==2.19.3 (from torch>=1.10.0->torchmetrics)\n",
      "  Using cached nvidia_nccl_cu12-2.19.3-py3-none-manylinux1_x86_64.whl (166.0 MB)\n",
      "Collecting nvidia-nvtx-cu12==12.1.105 (from torch>=1.10.0->torchmetrics)\n",
      "  Using cached nvidia_nvtx_cu12-12.1.105-py3-none-manylinux1_x86_64.whl (99 kB)\n",
      "Requirement already satisfied: triton==2.2.0 in /usr/local/lib/python3.10/dist-packages (from torch>=1.10.0->torchmetrics) (2.2.0)\n",
      "Collecting nvidia-nvjitlink-cu12 (from nvidia-cusolver-cu12==11.4.5.107->torch>=1.10.0->torchmetrics)\n",
      "  Using cached nvidia_nvjitlink_cu12-12.4.127-py3-none-manylinux2014_x86_64.whl (21.1 MB)\n",
      "Requirement already satisfied: MarkupSafe>=2.0 in /usr/local/lib/python3.10/dist-packages (from jinja2->torch>=1.10.0->torchmetrics) (2.1.5)\n",
      "Requirement already satisfied: mpmath>=0.19 in /usr/local/lib/python3.10/dist-packages (from sympy->torch>=1.10.0->torchmetrics) (1.3.0)\n",
      "Installing collected packages: nvidia-nvtx-cu12, nvidia-nvjitlink-cu12, nvidia-nccl-cu12, nvidia-curand-cu12, nvidia-cufft-cu12, nvidia-cuda-runtime-cu12, nvidia-cuda-nvrtc-cu12, nvidia-cuda-cupti-cu12, nvidia-cublas-cu12, lightning-utilities, nvidia-cusparse-cu12, nvidia-cudnn-cu12, nvidia-cusolver-cu12, torchmetrics\n",
      "Successfully installed lightning-utilities-0.11.2 nvidia-cublas-cu12-12.1.3.1 nvidia-cuda-cupti-cu12-12.1.105 nvidia-cuda-nvrtc-cu12-12.1.105 nvidia-cuda-runtime-cu12-12.1.105 nvidia-cudnn-cu12-8.9.2.26 nvidia-cufft-cu12-11.0.2.54 nvidia-curand-cu12-10.3.2.106 nvidia-cusolver-cu12-11.4.5.107 nvidia-cusparse-cu12-12.1.0.106 nvidia-nccl-cu12-2.19.3 nvidia-nvjitlink-cu12-12.4.127 nvidia-nvtx-cu12-12.1.105 torchmetrics-1.3.2\n"
     ]
    }
   ],
   "source": [
    "#!pip uninstall --yes gdown # After running this line, restart Colab runtime.\n",
    "#!pip install --upgrade --no-cache-dir gdown\n",
    "!pip install torchmetrics"
   ]
  },
  {
   "cell_type": "code",
   "execution_count": 2,
   "metadata": {
    "id": "ksssV7-KnCYl"
   },
   "outputs": [],
   "source": [
    "#import gdown\n",
    "#url = \"https://drive.google.com/drive/folders/1NNVry5TnTsiPIAh3bupQOmGw5NIuDbF0\"\n",
    "\n",
    "#gdown.download_folder(url, quiet=True, use_cookies=True, remaining_ok=True)\n"
   ]
  },
  {
   "cell_type": "markdown",
   "metadata": {
    "id": "s9hbe3rH-F9O"
   },
   "source": [
    "**link to preprocessed dataset temporal differences** : https://drive.google.com/drive/folders/19HbCp0bfK0S0ZhEuEs3sVo1PZdhXt3R4?usp=sharing.\n",
    "\n",
    "\n",
    "**link to preprocessed dataset mel spectogram** : https://drive.google.com/drive/folders/1Iy6zGulBbHbe9S3LbqEE1Etftes_XfyG?usp=share_link"
   ]
  },
  {
   "cell_type": "code",
   "execution_count": 3,
   "metadata": {
    "colab": {
     "base_uri": "https://localhost:8080/"
    },
    "id": "wh3QsVu2fFIR",
    "outputId": "9391fcdc-96e2-4b3f-80d0-3751c854c069"
   },
   "outputs": [
    {
     "name": "stdout",
     "output_type": "stream",
     "text": [
      "Mounted at /content/drive\n"
     ]
    }
   ],
   "source": [
    "from google.colab import drive\n",
    "drive.mount('/content/drive')"
   ]
  },
  {
   "cell_type": "code",
   "execution_count": 139,
   "metadata": {
    "id": "dO25TxFKO9Za"
   },
   "outputs": [],
   "source": [
    "import os\n",
    "import zipfile\n",
    "import pandas as pd\n",
    "import numpy as np\n",
    "import matplotlib.pyplot as plt\n",
    "import random\n",
    "import shutil\n",
    "import torch\n",
    "import torchmetrics\n",
    "import torch.nn as nn\n",
    "import torch.optim as optim\n",
    "from torch.optim import lr_scheduler\n",
    "from sklearn.model_selection import StratifiedKFold\n",
    "from sklearn.preprocessing import LabelEncoder\n",
    "from sklearn.metrics import f1_score, accuracy_score\n",
    "from torch.utils.data import Dataset, DataLoader,  SubsetRandomSampler,random_split\n",
    "from torchvision import transforms\n",
    "from tqdm import tqdm\n"
   ]
  },
  {
   "cell_type": "code",
   "execution_count": 293,
   "metadata": {
    "id": "BIIBJML9Zrdl"
   },
   "outputs": [],
   "source": [
    "seed = 8\n",
    "np.random.seed(seed)\n",
    "random.seed(seed)"
   ]
  },
  {
   "cell_type": "code",
   "execution_count": 294,
   "metadata": {
    "colab": {
     "base_uri": "https://localhost:8080/"
    },
    "id": "gYrGXOD0PXE2",
    "outputId": "b9558577-ec9f-48ed-a877-297972d0d7b8"
   },
   "outputs": [
    {
     "name": "stdout",
     "output_type": "stream",
     "text": [
      "Training on: cuda\n"
     ]
    }
   ],
   "source": [
    "device = torch.device('cuda' if torch.cuda.is_available() else 'cpu')\n",
    "print(f'Training on: {device}')"
   ]
  },
  {
   "cell_type": "code",
   "execution_count": 295,
   "metadata": {
    "id": "utRH_lKaRDKg"
   },
   "outputs": [],
   "source": [
    "class OGLE3SpectrogramDataset(Dataset):\n",
    "    def __init__(self, root_dir, min_files=200, load_from=None):\n",
    "        \"\"\"\n",
    "        Initializes the dataset.\n",
    "        Args:\n",
    "            root_dir (str): Directory containing all the spectrogram files.\n",
    "            min_files (int): Minimum number of files per class to be included in the dataset.\n",
    "            load_from (str, optional): Path to load the dataset from if previously saved.\n",
    "        \"\"\"\n",
    "        self.root_dir = root_dir\n",
    "        self.min_files = min_files\n",
    "\n",
    "        if load_from:\n",
    "            self.data, self.labels = self.load_dataset(load_from)\n",
    "        else:\n",
    "            self.data, self.labels = self.load_data()\n",
    "\n",
    "    def __len__(self):\n",
    "        return len(self.data)\n",
    "\n",
    "    def __getitem__(self, idx):\n",
    "        if idx < len(self.data):\n",
    "            return {'data': self.data[idx], 'label': self.labels[idx]}\n",
    "        else:\n",
    "            return {'data': None, 'label': None}\n",
    "\n",
    "    def load_data(self):\n",
    "        data = []\n",
    "        labels = []\n",
    "        label_encoder = LabelEncoder()\n",
    "        class_folders = [folder for folder in os.listdir(self.root_dir) if os.path.isdir(os.path.join(self.root_dir, folder))]\n",
    "\n",
    "        for folder in tqdm(class_folders, desc=\"Loading data\"):\n",
    "            class_path = os.path.join(self.root_dir, folder)\n",
    "            files = [f for f in os.listdir(class_path) if f.endswith('.pt')]\n",
    "            if len(files) >= self.min_files:\n",
    "                class_label = folder.split('_')[0]\n",
    "                for file_name in files:\n",
    "                    file_path = os.path.join(class_path, file_name)\n",
    "                    try:\n",
    "                        spectrogram_tensor = torch.load(file_path)\n",
    "                        data.append(spectrogram_tensor)\n",
    "                        labels.append(class_label)\n",
    "                    except Exception as e:\n",
    "                        print(f\"Error loading spectrogram {file_path}: {e}\")\n",
    "\n",
    "        if labels:\n",
    "            labels = label_encoder.fit_transform(labels)\n",
    "            labels = torch.tensor(labels, dtype=torch.long)\n",
    "\n",
    "        return data, labels\n",
    "\n",
    "    def save_dataset(self, save_path):\n",
    "        torch.save({\n",
    "            'data': self.data,\n",
    "            'labels': self.labels\n",
    "        }, save_path)\n",
    "\n",
    "    @staticmethod\n",
    "    def load_dataset(load_path):\n",
    "        checkpoint = torch.load(load_path)\n",
    "        data = checkpoint['data']\n",
    "        labels = checkpoint['labels']\n",
    "        return data, labels\n",
    "\n",
    "\n"
   ]
  },
  {
   "cell_type": "code",
   "execution_count": 296,
   "metadata": {
    "id": "VTXAXj-_9HUl"
   },
   "outputs": [],
   "source": [
    "#path = '/content/drive/MyDrive/ADV_ML/OGLE3_Spectrogram/t2cep_preprocessed/OGLE-BLG-T2CEP-283_augmented_1_preprocessed_spectrogram.pt'\n",
    "#specto_test= torch.load(path)\n",
    "#specto_test.shape"
   ]
  },
  {
   "cell_type": "code",
   "execution_count": 297,
   "metadata": {
    "id": "vheAvlDVd3XK"
   },
   "outputs": [],
   "source": [
    "root_folder = '/content/drive/MyDrive/ADV_ML/OGLE3_Spectrogram_2'\n",
    "save_path = '/content/drive/MyDrive/ADV_ML/saved_OGLE3_Spectrogram_2.pth'"
   ]
  },
  {
   "cell_type": "code",
   "execution_count": 298,
   "metadata": {
    "id": "5hy1oTAcOe4k"
   },
   "outputs": [],
   "source": [
    "# Creating and saving the dataset\n",
    "#dataset_specto = OGLE3SpectrogramDataset(root_folder)"
   ]
  },
  {
   "cell_type": "code",
   "execution_count": 299,
   "metadata": {
    "id": "roVzMWrase3I"
   },
   "outputs": [],
   "source": [
    "loaded_dataset_specto = OGLE3SpectrogramDataset(root_dir=root_folder, load_from=save_path)"
   ]
  },
  {
   "cell_type": "markdown",
   "metadata": {
    "id": "2laxbf866w1n"
   },
   "source": [
    "##train resnet on spectogramm red flag"
   ]
  },
  {
   "cell_type": "code",
   "execution_count": 299,
   "metadata": {
    "id": "4AbrLp6otVLH"
   },
   "outputs": [],
   "source": []
  },
  {
   "cell_type": "code",
   "execution_count": 300,
   "metadata": {
    "colab": {
     "base_uri": "https://localhost:8080/",
     "height": 198
    },
    "id": "no5VyxRM66YX",
    "outputId": "71bcb1a2-a4af-47a4-b01a-2644c2b58478"
   },
   "outputs": [
    {
     "data": {
      "application/vnd.google.colaboratory.intrinsic+json": {
       "type": "string"
      },
      "text/plain": [
       "'\\ndef train_model(model, dataset, num_epochs=10, batch_size=32):\\n    print(f\"running on {device}\")\\n    skf = StratifiedKFold(n_splits=10, shuffle=True)\\n    accuracy_metric = torchmetrics.Accuracy(task=\"multiclass\", num_classes=9, average=\\'weighted\\').to(device)\\n    f1_metric = torchmetrics.F1Score(task=\"multiclass\", num_classes=9, average=\\'weighted\\').to(device)\\n\\n    fold_accuracies = []\\n    fold_f1_scores = []\\n\\n    for fold, (train_indices, val_indices) in enumerate(skf.split(dataset.file_paths, [label for _, label in dataset.file_paths])):\\n        train_sampler = SubsetRandomSampler(train_indices)\\n        val_sampler = SubsetRandomSampler(val_indices)\\n        train_loader = DataLoader(dataset, batch_size=batch_size, sampler=train_sampler)\\n        val_loader = DataLoader(dataset, batch_size=batch_size, sampler=val_sampler)\\n\\n        optimizer = torch.optim.Adam(model.parameters(), lr=0.001)\\n        criterion = nn.CrossEntropyLoss()\\n\\n        epoch_accuracies = []\\n        epoch_f1_scores = []\\n\\n        for epoch in tqdm(range(num_epochs), desc=f\\'Fold {fold+1}\\'):\\n            model.train()\\n            running_loss = 0.0\\n            for inputs, labels in train_loader:\\n                inputs, labels = inputs.to(device), labels.to(device)\\n                optimizer.zero_grad()\\n                outputs = model(inputs)\\n                loss = criterion(outputs, labels)\\n                loss.backward()\\n                optimizer.step()\\n                running_loss += loss.item()\\n\\n            model.eval()\\n            accuracy_metric.reset()\\n            f1_metric.reset()\\n            with torch.no_grad():\\n                for inputs, labels in val_loader:\\n                    inputs, labels = inputs.to(device), labels.to(device)\\n                    outputs = model(inputs)\\n                    accuracy_metric.update(outputs, labels)\\n                    f1_metric.update(outputs, labels)\\n\\n            epoch_accuracies.append(accuracy_metric.compute().item())\\n            epoch_f1_scores.append(f1_metric.compute().item())\\n\\n            print(f\\'Fold {fold+1}, Epoch {epoch+1}: Validation Weighted Accuracy: {epoch_accuracies[-1]}, Validation Weighted F1 Score: {epoch_f1_scores[-1]}\\')\\n\\n        fold_accuracies.append(epoch_accuracies)\\n        fold_f1_scores.append(epoch_f1_scores)\\n\\n    # Plotting the results\\n    plt.figure(figsize=(10, 8))\\n    for i in range(10):\\n        plt.subplot(2, 1, 1)\\n        plt.plot(range(1, num_epochs + 1), fold_accuracies[i], label=f\\'Fold {i+1}\\')\\n        plt.title(\\'Validation Weighted Accuracy per Epoch\\')\\n        plt.xlabel(\\'Epoch\\')\\n        plt.ylabel(\\'Weighted Accuracy\\')\\n        plt.legend(loc=\\'upper left\\')\\n        plt.grid(True)\\n\\n        plt.subplot(2, 1, 2)\\n        plt.plot(range(1, num_epochs + 1), fold_f1_scores[i], label=f\\'Fold {i+1}\\')\\n        plt.title(\\'Validation Weighted F1 Score per Epoch\\')\\n        plt.xlabel(\\'Epoch\\')\\n        plt.ylabel(\\'Weighted F1 Score\\')\\n        plt.legend(loc=\\'upper left\\')\\n        plt.grid(True)\\n\\n    plt.tight_layout()\\n    plt.show()\\n\\n    return fold_accuracies, fold_f1_scores\\n'"
      ]
     },
     "execution_count": 300,
     "metadata": {},
     "output_type": "execute_result"
    }
   ],
   "source": [
    "\"\"\"\n",
    "def train_model(model, dataset, num_epochs=10, batch_size=32):\n",
    "    print(f\"running on {device}\")\n",
    "    skf = StratifiedKFold(n_splits=10, shuffle=True)\n",
    "    accuracy_metric = torchmetrics.Accuracy(task=\"multiclass\", num_classes=9, average='weighted').to(device)\n",
    "    f1_metric = torchmetrics.F1Score(task=\"multiclass\", num_classes=9, average='weighted').to(device)\n",
    "\n",
    "    fold_accuracies = []\n",
    "    fold_f1_scores = []\n",
    "\n",
    "    for fold, (train_indices, val_indices) in enumerate(skf.split(dataset.file_paths, [label for _, label in dataset.file_paths])):\n",
    "        train_sampler = SubsetRandomSampler(train_indices)\n",
    "        val_sampler = SubsetRandomSampler(val_indices)\n",
    "        train_loader = DataLoader(dataset, batch_size=batch_size, sampler=train_sampler)\n",
    "        val_loader = DataLoader(dataset, batch_size=batch_size, sampler=val_sampler)\n",
    "\n",
    "        optimizer = torch.optim.Adam(model.parameters(), lr=0.001)\n",
    "        criterion = nn.CrossEntropyLoss()\n",
    "\n",
    "        epoch_accuracies = []\n",
    "        epoch_f1_scores = []\n",
    "\n",
    "        for epoch in tqdm(range(num_epochs), desc=f'Fold {fold+1}'):\n",
    "            model.train()\n",
    "            running_loss = 0.0\n",
    "            for inputs, labels in train_loader:\n",
    "                inputs, labels = inputs.to(device), labels.to(device)\n",
    "                optimizer.zero_grad()\n",
    "                outputs = model(inputs)\n",
    "                loss = criterion(outputs, labels)\n",
    "                loss.backward()\n",
    "                optimizer.step()\n",
    "                running_loss += loss.item()\n",
    "\n",
    "            model.eval()\n",
    "            accuracy_metric.reset()\n",
    "            f1_metric.reset()\n",
    "            with torch.no_grad():\n",
    "                for inputs, labels in val_loader:\n",
    "                    inputs, labels = inputs.to(device), labels.to(device)\n",
    "                    outputs = model(inputs)\n",
    "                    accuracy_metric.update(outputs, labels)\n",
    "                    f1_metric.update(outputs, labels)\n",
    "\n",
    "            epoch_accuracies.append(accuracy_metric.compute().item())\n",
    "            epoch_f1_scores.append(f1_metric.compute().item())\n",
    "\n",
    "            print(f'Fold {fold+1}, Epoch {epoch+1}: Validation Weighted Accuracy: {epoch_accuracies[-1]}, Validation Weighted F1 Score: {epoch_f1_scores[-1]}')\n",
    "\n",
    "        fold_accuracies.append(epoch_accuracies)\n",
    "        fold_f1_scores.append(epoch_f1_scores)\n",
    "\n",
    "    # Plotting the results\n",
    "    plt.figure(figsize=(10, 8))\n",
    "    for i in range(10):\n",
    "        plt.subplot(2, 1, 1)\n",
    "        plt.plot(range(1, num_epochs + 1), fold_accuracies[i], label=f'Fold {i+1}')\n",
    "        plt.title('Validation Weighted Accuracy per Epoch')\n",
    "        plt.xlabel('Epoch')\n",
    "        plt.ylabel('Weighted Accuracy')\n",
    "        plt.legend(loc='upper left')\n",
    "        plt.grid(True)\n",
    "\n",
    "        plt.subplot(2, 1, 2)\n",
    "        plt.plot(range(1, num_epochs + 1), fold_f1_scores[i], label=f'Fold {i+1}')\n",
    "        plt.title('Validation Weighted F1 Score per Epoch')\n",
    "        plt.xlabel('Epoch')\n",
    "        plt.ylabel('Weighted F1 Score')\n",
    "        plt.legend(loc='upper left')\n",
    "        plt.grid(True)\n",
    "\n",
    "    plt.tight_layout()\n",
    "    plt.show()\n",
    "\n",
    "    return fold_accuracies, fold_f1_scores\n",
    "\"\"\""
   ]
  },
  {
   "cell_type": "markdown",
   "metadata": {
    "id": "_fbdeTygBqqT"
   },
   "source": [
    "##train resnet on spectogramm"
   ]
  },
  {
   "cell_type": "code",
   "execution_count": 301,
   "metadata": {
    "id": "skRqdcHeBtvZ"
   },
   "outputs": [],
   "source": [
    "from torchvision import models, transforms"
   ]
  },
  {
   "cell_type": "code",
   "execution_count": 301,
   "metadata": {
    "id": "6qt2ilUXhGcy"
   },
   "outputs": [],
   "source": []
  },
  {
   "cell_type": "code",
   "execution_count": 302,
   "metadata": {
    "id": "f_1WuiXiCFyr"
   },
   "outputs": [],
   "source": [
    "# Assuming `dataset` is your dataset instance\n",
    "train_size = int(0.8 * len(loaded_dataset_specto))\n",
    "val_size = len(loaded_dataset_specto) - train_size\n",
    "train_dataset, val_dataset = random_split(loaded_dataset_specto, [train_size, val_size])\n",
    "batch_size =64\n",
    "batch_size_val = 64*2\n",
    "train_loader = DataLoader(train_dataset, batch_size=batch_size, shuffle=True, num_workers =4)\n",
    "val_loader = DataLoader(val_dataset, batch_size=batch_size_val, shuffle=False, num_workers =4)"
   ]
  },
  {
   "cell_type": "code",
   "execution_count": 303,
   "metadata": {
    "id": "b5K0eK14CGxb"
   },
   "outputs": [],
   "source": [
    "def train_model(model, optimizer, scheduler, train_loader, val_loader, model_name, num_epochs=10, save_path='models/'):\n",
    "    \"\"\"\n",
    "    Train and validate a PyTorch model, saving the best and last model states.\n",
    "\n",
    "    Args:\n",
    "        model: PyTorch model to train.\n",
    "        train_loader: DataLoader for training data.\n",
    "        val_loader: DataLoader for validation data.\n",
    "        num_epochs: Number of epochs to train (default 10).\n",
    "        save_path: Path to save the model files (default 'models/').\n",
    "\n",
    "    Returns:\n",
    "        A dictionary containing training and validation accuracy, F1 scores, and losses.\n",
    "    \"\"\"\n",
    "    print(f\"Running on {device}\")\n",
    "\n",
    "    # Metrics\n",
    "    accuracy_metric = torchmetrics.Accuracy(task=\"multiclass\", num_classes=9, average='weighted').to(device)\n",
    "    f1_metric = torchmetrics.F1Score(task=\"multiclass\", num_classes=9, average='weighted').to(device)\n",
    "    criterion = nn.CrossEntropyLoss().to(device)\n",
    "\n",
    "    # To store metrics history and best model\n",
    "    train_accuracies, train_f1_scores, val_accuracies, val_f1_scores = [], [], [], []\n",
    "    train_losses, val_losses = [], []\n",
    "    best_val_f1 = 0\n",
    "\n",
    "    for epoch in range(num_epochs):\n",
    "        # Training Phase\n",
    "        model.train()\n",
    "        train_accuracy_metric = torchmetrics.Accuracy(task=\"multiclass\", num_classes=9, average='weighted').to(device)\n",
    "        train_f1_metric = torchmetrics.F1Score(task=\"multiclass\", num_classes=9, average='weighted').to(device)\n",
    "        total_train_loss = 0\n",
    "\n",
    "        for batch in tqdm(train_loader, desc=f'Training, Epoch {epoch + 1}', leave=False):\n",
    "            inputs, labels = batch['data'].to(device), batch['label'].to(device)\n",
    "            optimizer.zero_grad()\n",
    "            outputs = model(inputs)\n",
    "            loss = criterion(outputs, labels)\n",
    "            loss.backward()\n",
    "            optimizer.step()\n",
    "            total_train_loss += loss.item() * inputs.size(0)\n",
    "            train_accuracy_metric.update(outputs, labels)\n",
    "            train_f1_metric.update(outputs, labels)\n",
    "\n",
    "        train_acc = train_accuracy_metric.compute().item()\n",
    "        train_f1 = train_f1_metric.compute().item()\n",
    "        train_losses.append(total_train_loss / len(train_loader.dataset))\n",
    "        train_accuracies.append(train_acc)\n",
    "        train_f1_scores.append(train_f1)\n",
    "\n",
    "        scheduler.step()\n",
    "\n",
    "        # Validation Phase\n",
    "        model.eval()\n",
    "        accuracy_metric.reset()\n",
    "        f1_metric.reset()\n",
    "        total_val_loss = 0\n",
    "        with torch.no_grad():\n",
    "            for batch in tqdm(val_loader, desc=f'Validating, Epoch {epoch + 1}', leave=False):\n",
    "                inputs, labels = batch['data'].to(device), batch['label'].to(device)\n",
    "                outputs = model(inputs)\n",
    "                loss = criterion(outputs, labels)\n",
    "                total_val_loss += loss.item() * inputs.size(0)\n",
    "                accuracy_metric.update(outputs, labels)\n",
    "                f1_metric.update(outputs, labels)\n",
    "\n",
    "        val_acc = accuracy_metric.compute().item()\n",
    "        val_f1 = f1_metric.compute().item()\n",
    "        val_losses.append(total_val_loss / len(val_loader.dataset))\n",
    "        val_accuracies.append(val_acc)\n",
    "        val_f1_scores.append(val_f1)\n",
    "\n",
    "        # Checkpoint the best model\n",
    "        if val_f1 > best_val_f1:\n",
    "            best_val_f1 = val_f1\n",
    "            torch.save(model.state_dict(), f\"{save_path}{model_name}_best.pth\")\n",
    "            #print(f\"Saved best model with accuracy: {best_val_f1:.3f}\")\n",
    "\n",
    "        print(f'Epoch {epoch+1}: Train_loss: {train_losses[-1]:.3f}, Train_Acc: {train_acc:.3f}, Train_F1: {train_f1:.3f}, Val_loss: {val_losses[-1]:.3f}, Val_Acc: {val_acc:.3f}, Val_F1: {val_f1:.3f}')\n",
    "\n",
    "    # Save the last model state\n",
    "    torch.save(model.state_dict(), f\"{save_path}{model_name}_last.pth\")\n",
    "    print(\"Saved last model state\")\n",
    "\n",
    "    # Plotting the results\n",
    "    plt.figure(figsize=(12, 12))\n",
    "    plt.subplot(3, 1, 1)\n",
    "    plt.plot(range(1, num_epochs + 1), train_accuracies, label='Train Accuracy')\n",
    "    plt.plot(range(1, num_epochs + 1), val_accuracies, label='Validation Accuracy')\n",
    "    plt.title('Accuracy per Epoch')\n",
    "    plt.xlabel('Epoch')\n",
    "    plt.ylabel('Accuracy')\n",
    "    plt.legend(loc='upper left')\n",
    "    plt.grid(True)\n",
    "\n",
    "    plt.subplot(3, 1, 2)\n",
    "    plt.plot(range(1, num_epochs + 1), train_f1_scores, label='Train F1 Score')\n",
    "    plt.plot(range(1, num_epochs + 1), val_f1_scores, label='Validation F1 Score')\n",
    "    plt.title('F1 Score per Epoch')\n",
    "    plt.xlabel('Epoch')\n",
    "    plt.ylabel('F1 Score')\n",
    "    plt.legend(loc='upper left')\n",
    "    plt.grid(True)\n",
    "\n",
    "    plt.subplot(3, 1, 3)\n",
    "    plt.plot(range(1, num_epochs + 1), train_losses, label='Train Loss')\n",
    "    plt.plot(range(1, num_epochs + 1), val_losses, label='Validation Loss')\n",
    "    plt.title('Loss per Epoch')\n",
    "    plt.xlabel('Epoch')\n",
    "    plt.ylabel('Loss')\n",
    "    plt.legend(loc='upper left')\n",
    "    plt.grid(True)\n",
    "\n",
    "    plt.tight_layout()\n",
    "    plt.show()\n",
    "\n",
    "    return {\n",
    "        'train_accuracies': train_accuracies,\n",
    "        'train_f1_scores': train_f1_scores,\n",
    "        'val_accuracies': val_accuracies,\n",
    "        'val_f1_scores': val_f1_scores,\n",
    "        'train_losses': train_losses,\n",
    "        'val_losses': val_losses\n",
    "    }\n"
   ]
  },
  {
   "cell_type": "code",
   "execution_count": 304,
   "metadata": {
    "id": "YHKV2N5h6-j8"
   },
   "outputs": [],
   "source": [
    "model_resnet = models.resnet18(pretrained=True)\n",
    "#model_resnet"
   ]
  },
  {
   "cell_type": "code",
   "execution_count": 305,
   "metadata": {
    "id": "mEo8NizRUFLW"
   },
   "outputs": [],
   "source": [
    "#num_classes = len(dataset_specto.class_to_idx)\n",
    "num_classes =9"
   ]
  },
  {
   "cell_type": "code",
   "execution_count": 306,
   "metadata": {
    "colab": {
     "base_uri": "https://localhost:8080/"
    },
    "id": "WXFKcggv7JNA",
    "outputId": "f49bb6f1-30a7-49d1-e465-34c050fa9948"
   },
   "outputs": [
    {
     "data": {
      "text/plain": [
       "ResNet(\n",
       "  (conv1): Conv2d(2, 64, kernel_size=(7, 7), stride=(2, 2), padding=(3, 3), bias=False)\n",
       "  (bn1): BatchNorm2d(64, eps=1e-05, momentum=0.1, affine=True, track_running_stats=True)\n",
       "  (relu): ReLU(inplace=True)\n",
       "  (maxpool): MaxPool2d(kernel_size=3, stride=2, padding=1, dilation=1, ceil_mode=False)\n",
       "  (layer1): Sequential(\n",
       "    (0): BasicBlock(\n",
       "      (conv1): Conv2d(64, 64, kernel_size=(3, 3), stride=(1, 1), padding=(1, 1), bias=False)\n",
       "      (bn1): BatchNorm2d(64, eps=1e-05, momentum=0.1, affine=True, track_running_stats=True)\n",
       "      (relu): ReLU(inplace=True)\n",
       "      (conv2): Conv2d(64, 64, kernel_size=(3, 3), stride=(1, 1), padding=(1, 1), bias=False)\n",
       "      (bn2): BatchNorm2d(64, eps=1e-05, momentum=0.1, affine=True, track_running_stats=True)\n",
       "    )\n",
       "    (1): BasicBlock(\n",
       "      (conv1): Conv2d(64, 64, kernel_size=(3, 3), stride=(1, 1), padding=(1, 1), bias=False)\n",
       "      (bn1): BatchNorm2d(64, eps=1e-05, momentum=0.1, affine=True, track_running_stats=True)\n",
       "      (relu): ReLU(inplace=True)\n",
       "      (conv2): Conv2d(64, 64, kernel_size=(3, 3), stride=(1, 1), padding=(1, 1), bias=False)\n",
       "      (bn2): BatchNorm2d(64, eps=1e-05, momentum=0.1, affine=True, track_running_stats=True)\n",
       "    )\n",
       "  )\n",
       "  (layer2): Sequential(\n",
       "    (0): BasicBlock(\n",
       "      (conv1): Conv2d(64, 128, kernel_size=(3, 3), stride=(2, 2), padding=(1, 1), bias=False)\n",
       "      (bn1): BatchNorm2d(128, eps=1e-05, momentum=0.1, affine=True, track_running_stats=True)\n",
       "      (relu): ReLU(inplace=True)\n",
       "      (conv2): Conv2d(128, 128, kernel_size=(3, 3), stride=(1, 1), padding=(1, 1), bias=False)\n",
       "      (bn2): BatchNorm2d(128, eps=1e-05, momentum=0.1, affine=True, track_running_stats=True)\n",
       "      (downsample): Sequential(\n",
       "        (0): Conv2d(64, 128, kernel_size=(1, 1), stride=(2, 2), bias=False)\n",
       "        (1): BatchNorm2d(128, eps=1e-05, momentum=0.1, affine=True, track_running_stats=True)\n",
       "      )\n",
       "    )\n",
       "    (1): BasicBlock(\n",
       "      (conv1): Conv2d(128, 128, kernel_size=(3, 3), stride=(1, 1), padding=(1, 1), bias=False)\n",
       "      (bn1): BatchNorm2d(128, eps=1e-05, momentum=0.1, affine=True, track_running_stats=True)\n",
       "      (relu): ReLU(inplace=True)\n",
       "      (conv2): Conv2d(128, 128, kernel_size=(3, 3), stride=(1, 1), padding=(1, 1), bias=False)\n",
       "      (bn2): BatchNorm2d(128, eps=1e-05, momentum=0.1, affine=True, track_running_stats=True)\n",
       "    )\n",
       "  )\n",
       "  (layer3): Sequential(\n",
       "    (0): BasicBlock(\n",
       "      (conv1): Conv2d(128, 256, kernel_size=(3, 3), stride=(2, 2), padding=(1, 1), bias=False)\n",
       "      (bn1): BatchNorm2d(256, eps=1e-05, momentum=0.1, affine=True, track_running_stats=True)\n",
       "      (relu): ReLU(inplace=True)\n",
       "      (conv2): Conv2d(256, 256, kernel_size=(3, 3), stride=(1, 1), padding=(1, 1), bias=False)\n",
       "      (bn2): BatchNorm2d(256, eps=1e-05, momentum=0.1, affine=True, track_running_stats=True)\n",
       "      (downsample): Sequential(\n",
       "        (0): Conv2d(128, 256, kernel_size=(1, 1), stride=(2, 2), bias=False)\n",
       "        (1): BatchNorm2d(256, eps=1e-05, momentum=0.1, affine=True, track_running_stats=True)\n",
       "      )\n",
       "    )\n",
       "    (1): BasicBlock(\n",
       "      (conv1): Conv2d(256, 256, kernel_size=(3, 3), stride=(1, 1), padding=(1, 1), bias=False)\n",
       "      (bn1): BatchNorm2d(256, eps=1e-05, momentum=0.1, affine=True, track_running_stats=True)\n",
       "      (relu): ReLU(inplace=True)\n",
       "      (conv2): Conv2d(256, 256, kernel_size=(3, 3), stride=(1, 1), padding=(1, 1), bias=False)\n",
       "      (bn2): BatchNorm2d(256, eps=1e-05, momentum=0.1, affine=True, track_running_stats=True)\n",
       "    )\n",
       "  )\n",
       "  (layer4): Sequential(\n",
       "    (0): BasicBlock(\n",
       "      (conv1): Conv2d(256, 512, kernel_size=(3, 3), stride=(2, 2), padding=(1, 1), bias=False)\n",
       "      (bn1): BatchNorm2d(512, eps=1e-05, momentum=0.1, affine=True, track_running_stats=True)\n",
       "      (relu): ReLU(inplace=True)\n",
       "      (conv2): Conv2d(512, 512, kernel_size=(3, 3), stride=(1, 1), padding=(1, 1), bias=False)\n",
       "      (bn2): BatchNorm2d(512, eps=1e-05, momentum=0.1, affine=True, track_running_stats=True)\n",
       "      (downsample): Sequential(\n",
       "        (0): Conv2d(256, 512, kernel_size=(1, 1), stride=(2, 2), bias=False)\n",
       "        (1): BatchNorm2d(512, eps=1e-05, momentum=0.1, affine=True, track_running_stats=True)\n",
       "      )\n",
       "    )\n",
       "    (1): BasicBlock(\n",
       "      (conv1): Conv2d(512, 512, kernel_size=(3, 3), stride=(1, 1), padding=(1, 1), bias=False)\n",
       "      (bn1): BatchNorm2d(512, eps=1e-05, momentum=0.1, affine=True, track_running_stats=True)\n",
       "      (relu): ReLU(inplace=True)\n",
       "      (conv2): Conv2d(512, 512, kernel_size=(3, 3), stride=(1, 1), padding=(1, 1), bias=False)\n",
       "      (bn2): BatchNorm2d(512, eps=1e-05, momentum=0.1, affine=True, track_running_stats=True)\n",
       "    )\n",
       "  )\n",
       "  (avgpool): AdaptiveAvgPool2d(output_size=(1, 1))\n",
       "  (fc): Linear(in_features=512, out_features=9, bias=True)\n",
       ")"
      ]
     },
     "execution_count": 306,
     "metadata": {},
     "output_type": "execute_result"
    }
   ],
   "source": [
    "#num_classes = len(dataset_specto.class_to_idx)\n",
    "model_resnet.conv1 = nn.Conv2d(2, 64, kernel_size=(7, 7), stride=(2, 2), padding=(3, 3), bias=False)\n",
    "num_features = model_resnet.fc.in_features\n",
    "model_resnet.fc = nn.Linear(num_features, num_classes)  # Adjusting the final layer for 9 classes\n",
    "model_resnet = model_resnet.to(device)\n",
    "model_resnet\n"
   ]
  },
  {
   "cell_type": "markdown",
   "metadata": {
    "id": "vg2S6zMpEKrF"
   },
   "source": [
    "optimizer"
   ]
  },
  {
   "cell_type": "code",
   "execution_count": 307,
   "metadata": {
    "id": "KQb9nq_dvhrx"
   },
   "outputs": [],
   "source": [
    "optimizer = torch.optim.Adam(model_resnet.parameters(), lr=0.0005)\n",
    "exp_lr_scheduler = lr_scheduler.StepLR(optimizer, step_size=7, gamma=0.1)\n",
    "\n"
   ]
  },
  {
   "cell_type": "code",
   "execution_count": 308,
   "metadata": {
    "colab": {
     "base_uri": "https://localhost:8080/",
     "height": 1000
    },
    "id": "ZAEqEoR-7dHD",
    "outputId": "20ec4540-62e0-4f9d-a4ca-133e270d8c2b"
   },
   "outputs": [
    {
     "name": "stdout",
     "output_type": "stream",
     "text": [
      "Running on cuda\n"
     ]
    },
    {
     "name": "stderr",
     "output_type": "stream",
     "text": []
    },
    {
     "name": "stdout",
     "output_type": "stream",
     "text": [
      "Epoch 1: Train_loss: 1.373, Train_Acc: 0.474, Train_F1: 0.453, Val_loss: 2.066, Val_Acc: 0.318, Val_F1: 0.282\n"
     ]
    },
    {
     "name": "stderr",
     "output_type": "stream",
     "text": []
    },
    {
     "name": "stdout",
     "output_type": "stream",
     "text": [
      "Epoch 2: Train_loss: 1.085, Train_Acc: 0.596, Train_F1: 0.575, Val_loss: 3.076, Val_Acc: 0.216, Val_F1: 0.148\n"
     ]
    },
    {
     "name": "stderr",
     "output_type": "stream",
     "text": []
    },
    {
     "name": "stdout",
     "output_type": "stream",
     "text": [
      "Epoch 3: Train_loss: 0.897, Train_Acc: 0.668, Train_F1: 0.652, Val_loss: 2.222, Val_Acc: 0.319, Val_F1: 0.316\n"
     ]
    },
    {
     "name": "stderr",
     "output_type": "stream",
     "text": []
    },
    {
     "name": "stdout",
     "output_type": "stream",
     "text": [
      "Epoch 4: Train_loss: 0.726, Train_Acc: 0.730, Train_F1: 0.720, Val_loss: 2.832, Val_Acc: 0.202, Val_F1: 0.122\n"
     ]
    },
    {
     "name": "stderr",
     "output_type": "stream",
     "text": []
    },
    {
     "name": "stdout",
     "output_type": "stream",
     "text": [
      "Epoch 5: Train_loss: 0.606, Train_Acc: 0.777, Train_F1: 0.772, Val_loss: 2.555, Val_Acc: 0.320, Val_F1: 0.287\n"
     ]
    },
    {
     "name": "stderr",
     "output_type": "stream",
     "text": []
    },
    {
     "name": "stdout",
     "output_type": "stream",
     "text": [
      "Epoch 6: Train_loss: 0.530, Train_Acc: 0.804, Train_F1: 0.801, Val_loss: 3.366, Val_Acc: 0.231, Val_F1: 0.148\n"
     ]
    },
    {
     "name": "stderr",
     "output_type": "stream",
     "text": []
    },
    {
     "name": "stdout",
     "output_type": "stream",
     "text": [
      "Epoch 7: Train_loss: 0.463, Train_Acc: 0.828, Train_F1: 0.826, Val_loss: 3.451, Val_Acc: 0.230, Val_F1: 0.160\n"
     ]
    },
    {
     "name": "stderr",
     "output_type": "stream",
     "text": []
    },
    {
     "name": "stdout",
     "output_type": "stream",
     "text": [
      "Epoch 8: Train_loss: 0.302, Train_Acc: 0.891, Train_F1: 0.890, Val_loss: 1.166, Val_Acc: 0.659, Val_F1: 0.673\n"
     ]
    },
    {
     "name": "stderr",
     "output_type": "stream",
     "text": []
    },
    {
     "name": "stdout",
     "output_type": "stream",
     "text": [
      "Epoch 9: Train_loss: 0.253, Train_Acc: 0.908, Train_F1: 0.908, Val_loss: 0.931, Val_Acc: 0.721, Val_F1: 0.722\n"
     ]
    },
    {
     "name": "stderr",
     "output_type": "stream",
     "text": []
    },
    {
     "name": "stdout",
     "output_type": "stream",
     "text": [
      "Epoch 10: Train_loss: 0.227, Train_Acc: 0.917, Train_F1: 0.917, Val_loss: 1.099, Val_Acc: 0.698, Val_F1: 0.705\n"
     ]
    },
    {
     "name": "stderr",
     "output_type": "stream",
     "text": []
    },
    {
     "name": "stdout",
     "output_type": "stream",
     "text": [
      "Epoch 11: Train_loss: 0.200, Train_Acc: 0.928, Train_F1: 0.928, Val_loss: 2.484, Val_Acc: 0.417, Val_F1: 0.428\n"
     ]
    },
    {
     "name": "stderr",
     "output_type": "stream",
     "text": []
    },
    {
     "name": "stdout",
     "output_type": "stream",
     "text": [
      "Epoch 12: Train_loss: 0.180, Train_Acc: 0.936, Train_F1: 0.935, Val_loss: 1.085, Val_Acc: 0.706, Val_F1: 0.708\n"
     ]
    },
    {
     "name": "stderr",
     "output_type": "stream",
     "text": []
    },
    {
     "name": "stdout",
     "output_type": "stream",
     "text": [
      "Epoch 13: Train_loss: 0.164, Train_Acc: 0.941, Train_F1: 0.941, Val_loss: 0.940, Val_Acc: 0.738, Val_F1: 0.739\n"
     ]
    },
    {
     "name": "stderr",
     "output_type": "stream",
     "text": []
    },
    {
     "name": "stdout",
     "output_type": "stream",
     "text": [
      "Epoch 14: Train_loss: 0.147, Train_Acc: 0.948, Train_F1: 0.948, Val_loss: 0.695, Val_Acc: 0.804, Val_F1: 0.802\n"
     ]
    },
    {
     "name": "stderr",
     "output_type": "stream",
     "text": []
    },
    {
     "name": "stdout",
     "output_type": "stream",
     "text": [
      "Epoch 15: Train_loss: 0.122, Train_Acc: 0.957, Train_F1: 0.957, Val_loss: 0.829, Val_Acc: 0.772, Val_F1: 0.771\n"
     ]
    },
    {
     "name": "stderr",
     "output_type": "stream",
     "text": []
    },
    {
     "name": "stdout",
     "output_type": "stream",
     "text": [
      "Epoch 16: Train_loss: 0.117, Train_Acc: 0.959, Train_F1: 0.959, Val_loss: 0.607, Val_Acc: 0.828, Val_F1: 0.826\n"
     ]
    },
    {
     "name": "stderr",
     "output_type": "stream",
     "text": []
    },
    {
     "name": "stdout",
     "output_type": "stream",
     "text": [
      "Epoch 17: Train_loss: 0.111, Train_Acc: 0.961, Train_F1: 0.961, Val_loss: 0.735, Val_Acc: 0.803, Val_F1: 0.801\n"
     ]
    },
    {
     "name": "stderr",
     "output_type": "stream",
     "text": []
    },
    {
     "name": "stdout",
     "output_type": "stream",
     "text": [
      "Epoch 18: Train_loss: 0.107, Train_Acc: 0.962, Train_F1: 0.962, Val_loss: 0.769, Val_Acc: 0.796, Val_F1: 0.794\n"
     ]
    },
    {
     "name": "stderr",
     "output_type": "stream",
     "text": []
    },
    {
     "name": "stdout",
     "output_type": "stream",
     "text": [
      "Epoch 19: Train_loss: 0.104, Train_Acc: 0.963, Train_F1: 0.963, Val_loss: 0.899, Val_Acc: 0.767, Val_F1: 0.768\n"
     ]
    },
    {
     "name": "stderr",
     "output_type": "stream",
     "text": []
    },
    {
     "name": "stdout",
     "output_type": "stream",
     "text": [
      "Epoch 20: Train_loss: 0.105, Train_Acc: 0.964, Train_F1: 0.964, Val_loss: 0.948, Val_Acc: 0.755, Val_F1: 0.756\n"
     ]
    },
    {
     "name": "stderr",
     "output_type": "stream",
     "text": []
    },
    {
     "name": "stdout",
     "output_type": "stream",
     "text": [
      "Epoch 21: Train_loss: 0.102, Train_Acc: 0.966, Train_F1: 0.966, Val_loss: 1.672, Val_Acc: 0.607, Val_F1: 0.618\n"
     ]
    },
    {
     "name": "stderr",
     "output_type": "stream",
     "text": []
    },
    {
     "name": "stdout",
     "output_type": "stream",
     "text": [
      "Epoch 22: Train_loss: 0.099, Train_Acc: 0.965, Train_F1: 0.965, Val_loss: 1.454, Val_Acc: 0.656, Val_F1: 0.666\n"
     ]
    },
    {
     "name": "stderr",
     "output_type": "stream",
     "text": []
    },
    {
     "name": "stdout",
     "output_type": "stream",
     "text": [
      "Epoch 23: Train_loss: 0.098, Train_Acc: 0.967, Train_F1: 0.967, Val_loss: 0.835, Val_Acc: 0.782, Val_F1: 0.781\n"
     ]
    },
    {
     "name": "stderr",
     "output_type": "stream",
     "text": []
    },
    {
     "name": "stdout",
     "output_type": "stream",
     "text": [
      "Epoch 24: Train_loss: 0.097, Train_Acc: 0.967, Train_F1: 0.967, Val_loss: 1.664, Val_Acc: 0.610, Val_F1: 0.624\n"
     ]
    },
    {
     "name": "stderr",
     "output_type": "stream",
     "text": []
    },
    {
     "name": "stdout",
     "output_type": "stream",
     "text": [
      "Epoch 25: Train_loss: 0.098, Train_Acc: 0.966, Train_F1: 0.966, Val_loss: 1.295, Val_Acc: 0.687, Val_F1: 0.696\n"
     ]
    },
    {
     "name": "stderr",
     "output_type": "stream",
     "text": []
    },
    {
     "name": "stdout",
     "output_type": "stream",
     "text": [
      "Epoch 26: Train_loss: 0.098, Train_Acc: 0.966, Train_F1: 0.966, Val_loss: 0.834, Val_Acc: 0.785, Val_F1: 0.784\n"
     ]
    },
    {
     "name": "stderr",
     "output_type": "stream",
     "text": []
    },
    {
     "name": "stdout",
     "output_type": "stream",
     "text": [
      "Epoch 27: Train_loss: 0.098, Train_Acc: 0.965, Train_F1: 0.965, Val_loss: 0.649, Val_Acc: 0.824, Val_F1: 0.822\n"
     ]
    },
    {
     "name": "stderr",
     "output_type": "stream",
     "text": []
    },
    {
     "name": "stdout",
     "output_type": "stream",
     "text": [
      "Epoch 28: Train_loss: 0.097, Train_Acc: 0.967, Train_F1: 0.967, Val_loss: 2.495, Val_Acc: 0.487, Val_F1: 0.501\n"
     ]
    },
    {
     "name": "stderr",
     "output_type": "stream",
     "text": []
    },
    {
     "name": "stdout",
     "output_type": "stream",
     "text": [
      "Epoch 29: Train_loss: 0.097, Train_Acc: 0.966, Train_F1: 0.966, Val_loss: 0.721, Val_Acc: 0.809, Val_F1: 0.808\n"
     ]
    },
    {
     "name": "stderr",
     "output_type": "stream",
     "text": []
    },
    {
     "name": "stdout",
     "output_type": "stream",
     "text": [
      "Epoch 30: Train_loss: 0.097, Train_Acc: 0.967, Train_F1: 0.967, Val_loss: 0.804, Val_Acc: 0.797, Val_F1: 0.796\n"
     ]
    },
    {
     "name": "stderr",
     "output_type": "stream",
     "text": []
    },
    {
     "name": "stdout",
     "output_type": "stream",
     "text": [
      "Epoch 31: Train_loss: 0.097, Train_Acc: 0.966, Train_F1: 0.966, Val_loss: 0.569, Val_Acc: 0.836, Val_F1: 0.835\n"
     ]
    },
    {
     "name": "stderr",
     "output_type": "stream",
     "text": []
    },
    {
     "name": "stdout",
     "output_type": "stream",
     "text": [
      "Epoch 32: Train_loss: 0.100, Train_Acc: 0.965, Train_F1: 0.965, Val_loss: 0.903, Val_Acc: 0.765, Val_F1: 0.766\n"
     ]
    },
    {
     "name": "stderr",
     "output_type": "stream",
     "text": []
    },
    {
     "name": "stdout",
     "output_type": "stream",
     "text": [
      "Epoch 33: Train_loss: 0.094, Train_Acc: 0.967, Train_F1: 0.967, Val_loss: 0.883, Val_Acc: 0.769, Val_F1: 0.769\n"
     ]
    },
    {
     "name": "stderr",
     "output_type": "stream",
     "text": []
    },
    {
     "name": "stdout",
     "output_type": "stream",
     "text": [
      "Epoch 34: Train_loss: 0.098, Train_Acc: 0.966, Train_F1: 0.966, Val_loss: 1.098, Val_Acc: 0.722, Val_F1: 0.726\n"
     ]
    },
    {
     "name": "stderr",
     "output_type": "stream",
     "text": []
    },
    {
     "name": "stdout",
     "output_type": "stream",
     "text": [
      "Epoch 35: Train_loss: 0.097, Train_Acc: 0.966, Train_F1: 0.966, Val_loss: 1.246, Val_Acc: 0.700, Val_F1: 0.706\n"
     ]
    },
    {
     "name": "stderr",
     "output_type": "stream",
     "text": []
    },
    {
     "name": "stdout",
     "output_type": "stream",
     "text": [
      "Epoch 36: Train_loss: 0.099, Train_Acc: 0.966, Train_F1: 0.966, Val_loss: 1.049, Val_Acc: 0.734, Val_F1: 0.737\n"
     ]
    },
    {
     "name": "stderr",
     "output_type": "stream",
     "text": []
    },
    {
     "name": "stdout",
     "output_type": "stream",
     "text": [
      "Epoch 37: Train_loss: 0.098, Train_Acc: 0.966, Train_F1: 0.966, Val_loss: 2.341, Val_Acc: 0.503, Val_F1: 0.516\n"
     ]
    },
    {
     "name": "stderr",
     "output_type": "stream",
     "text": []
    },
    {
     "name": "stdout",
     "output_type": "stream",
     "text": [
      "Epoch 38: Train_loss: 0.096, Train_Acc: 0.967, Train_F1: 0.967, Val_loss: 1.691, Val_Acc: 0.613, Val_F1: 0.625\n"
     ]
    },
    {
     "name": "stderr",
     "output_type": "stream",
     "text": []
    },
    {
     "name": "stdout",
     "output_type": "stream",
     "text": [
      "Epoch 39: Train_loss: 0.096, Train_Acc: 0.967, Train_F1: 0.967, Val_loss: 0.756, Val_Acc: 0.799, Val_F1: 0.799\n"
     ]
    },
    {
     "name": "stderr",
     "output_type": "stream",
     "text": []
    },
    {
     "name": "stdout",
     "output_type": "stream",
     "text": [
      "Epoch 40: Train_loss: 0.095, Train_Acc: 0.968, Train_F1: 0.968, Val_loss: 1.288, Val_Acc: 0.684, Val_F1: 0.692\n"
     ]
    },
    {
     "name": "stderr",
     "output_type": "stream",
     "text": []
    },
    {
     "name": "stdout",
     "output_type": "stream",
     "text": [
      "Epoch 41: Train_loss: 0.096, Train_Acc: 0.967, Train_F1: 0.967, Val_loss: 0.631, Val_Acc: 0.828, Val_F1: 0.826\n"
     ]
    },
    {
     "name": "stderr",
     "output_type": "stream",
     "text": []
    },
    {
     "name": "stdout",
     "output_type": "stream",
     "text": [
      "Epoch 42: Train_loss: 0.098, Train_Acc: 0.966, Train_F1: 0.966, Val_loss: 1.295, Val_Acc: 0.685, Val_F1: 0.692\n"
     ]
    },
    {
     "name": "stderr",
     "output_type": "stream",
     "text": []
    },
    {
     "name": "stdout",
     "output_type": "stream",
     "text": [
      "Epoch 43: Train_loss: 0.096, Train_Acc: 0.967, Train_F1: 0.967, Val_loss: 0.646, Val_Acc: 0.827, Val_F1: 0.826\n"
     ]
    },
    {
     "name": "stderr",
     "output_type": "stream",
     "text": []
    },
    {
     "name": "stdout",
     "output_type": "stream",
     "text": [
      "Epoch 44: Train_loss: 0.095, Train_Acc: 0.967, Train_F1: 0.967, Val_loss: 0.987, Val_Acc: 0.742, Val_F1: 0.744\n"
     ]
    },
    {
     "name": "stderr",
     "output_type": "stream",
     "text": []
    },
    {
     "name": "stdout",
     "output_type": "stream",
     "text": [
      "Epoch 45: Train_loss: 0.095, Train_Acc: 0.967, Train_F1: 0.967, Val_loss: 1.155, Val_Acc: 0.714, Val_F1: 0.719\n"
     ]
    },
    {
     "name": "stderr",
     "output_type": "stream",
     "text": []
    },
    {
     "name": "stdout",
     "output_type": "stream",
     "text": [
      "Epoch 46: Train_loss: 0.096, Train_Acc: 0.967, Train_F1: 0.967, Val_loss: 0.639, Val_Acc: 0.828, Val_F1: 0.826\n"
     ]
    },
    {
     "name": "stderr",
     "output_type": "stream",
     "text": []
    },
    {
     "name": "stdout",
     "output_type": "stream",
     "text": [
      "Epoch 47: Train_loss: 0.097, Train_Acc: 0.966, Train_F1: 0.966, Val_loss: 1.757, Val_Acc: 0.600, Val_F1: 0.613\n"
     ]
    },
    {
     "name": "stderr",
     "output_type": "stream",
     "text": []
    },
    {
     "name": "stdout",
     "output_type": "stream",
     "text": [
      "Epoch 48: Train_loss: 0.097, Train_Acc: 0.966, Train_F1: 0.966, Val_loss: 1.856, Val_Acc: 0.587, Val_F1: 0.603\n"
     ]
    },
    {
     "name": "stderr",
     "output_type": "stream",
     "text": []
    },
    {
     "name": "stdout",
     "output_type": "stream",
     "text": [
      "Epoch 49: Train_loss: 0.098, Train_Acc: 0.966, Train_F1: 0.966, Val_loss: 1.059, Val_Acc: 0.732, Val_F1: 0.735\n"
     ]
    },
    {
     "name": "stderr",
     "output_type": "stream",
     "text": []
    },
    {
     "name": "stdout",
     "output_type": "stream",
     "text": [
      "Epoch 50: Train_loss: 0.095, Train_Acc: 0.968, Train_F1: 0.968, Val_loss: 0.583, Val_Acc: 0.837, Val_F1: 0.836\n"
     ]
    },
    {
     "name": "stderr",
     "output_type": "stream",
     "text": []
    },
    {
     "name": "stdout",
     "output_type": "stream",
     "text": [
      "Epoch 51: Train_loss: 0.096, Train_Acc: 0.968, Train_F1: 0.968, Val_loss: 0.779, Val_Acc: 0.797, Val_F1: 0.796\n"
     ]
    },
    {
     "name": "stderr",
     "output_type": "stream",
     "text": []
    },
    {
     "name": "stdout",
     "output_type": "stream",
     "text": [
      "Epoch 52: Train_loss: 0.096, Train_Acc: 0.967, Train_F1: 0.967, Val_loss: 0.685, Val_Acc: 0.821, Val_F1: 0.819\n"
     ]
    },
    {
     "name": "stderr",
     "output_type": "stream",
     "text": []
    },
    {
     "name": "stdout",
     "output_type": "stream",
     "text": [
      "Epoch 53: Train_loss: 0.096, Train_Acc: 0.968, Train_F1: 0.968, Val_loss: 1.580, Val_Acc: 0.634, Val_F1: 0.648\n"
     ]
    },
    {
     "name": "stderr",
     "output_type": "stream",
     "text": []
    },
    {
     "name": "stdout",
     "output_type": "stream",
     "text": [
      "Epoch 54: Train_loss: 0.097, Train_Acc: 0.966, Train_F1: 0.966, Val_loss: 1.217, Val_Acc: 0.702, Val_F1: 0.709\n"
     ]
    },
    {
     "name": "stderr",
     "output_type": "stream",
     "text": []
    },
    {
     "name": "stdout",
     "output_type": "stream",
     "text": [
      "Epoch 55: Train_loss: 0.097, Train_Acc: 0.967, Train_F1: 0.967, Val_loss: 0.879, Val_Acc: 0.772, Val_F1: 0.772\n"
     ]
    },
    {
     "name": "stderr",
     "output_type": "stream",
     "text": []
    },
    {
     "name": "stdout",
     "output_type": "stream",
     "text": [
      "Epoch 56: Train_loss: 0.095, Train_Acc: 0.967, Train_F1: 0.967, Val_loss: 0.594, Val_Acc: 0.835, Val_F1: 0.834\n"
     ]
    },
    {
     "name": "stderr",
     "output_type": "stream",
     "text": []
    },
    {
     "name": "stdout",
     "output_type": "stream",
     "text": [
      "Epoch 57: Train_loss: 0.094, Train_Acc: 0.967, Train_F1: 0.967, Val_loss: 0.968, Val_Acc: 0.747, Val_F1: 0.749\n"
     ]
    },
    {
     "name": "stderr",
     "output_type": "stream",
     "text": []
    },
    {
     "name": "stdout",
     "output_type": "stream",
     "text": [
      "Epoch 58: Train_loss: 0.096, Train_Acc: 0.966, Train_F1: 0.966, Val_loss: 0.766, Val_Acc: 0.801, Val_F1: 0.800\n"
     ]
    },
    {
     "name": "stderr",
     "output_type": "stream",
     "text": []
    },
    {
     "name": "stdout",
     "output_type": "stream",
     "text": [
      "Epoch 59: Train_loss: 0.095, Train_Acc: 0.967, Train_F1: 0.967, Val_loss: 1.186, Val_Acc: 0.705, Val_F1: 0.710\n"
     ]
    },
    {
     "name": "stderr",
     "output_type": "stream",
     "text": []
    },
    {
     "name": "stdout",
     "output_type": "stream",
     "text": [
      "Epoch 60: Train_loss: 0.096, Train_Acc: 0.967, Train_F1: 0.967, Val_loss: 0.795, Val_Acc: 0.796, Val_F1: 0.796\n"
     ]
    },
    {
     "name": "stderr",
     "output_type": "stream",
     "text": []
    },
    {
     "name": "stdout",
     "output_type": "stream",
     "text": [
      "Epoch 61: Train_loss: 0.099, Train_Acc: 0.966, Train_F1: 0.966, Val_loss: 0.684, Val_Acc: 0.816, Val_F1: 0.815\n"
     ]
    },
    {
     "name": "stderr",
     "output_type": "stream",
     "text": []
    },
    {
     "name": "stdout",
     "output_type": "stream",
     "text": [
      "Epoch 62: Train_loss: 0.098, Train_Acc: 0.967, Train_F1: 0.967, Val_loss: 1.577, Val_Acc: 0.631, Val_F1: 0.644\n"
     ]
    },
    {
     "name": "stderr",
     "output_type": "stream",
     "text": []
    },
    {
     "name": "stdout",
     "output_type": "stream",
     "text": [
      "Epoch 63: Train_loss: 0.094, Train_Acc: 0.967, Train_F1: 0.967, Val_loss: 1.005, Val_Acc: 0.745, Val_F1: 0.746\n"
     ]
    },
    {
     "name": "stderr",
     "output_type": "stream",
     "text": []
    },
    {
     "name": "stdout",
     "output_type": "stream",
     "text": [
      "Epoch 64: Train_loss: 0.096, Train_Acc: 0.967, Train_F1: 0.967, Val_loss: 0.748, Val_Acc: 0.809, Val_F1: 0.807\n",
      "Saved last model state\n"
     ]
    },
    {
     "data": {
      "image/png": "[encoded data removed]",
      "text/plain": [
       "<Figure size 1200x1200 with 3 Axes>"
      ]
     },
     "metadata": {},
     "output_type": "display_data"
    }
   ],
   "source": [
    "model_name = 'model_resnet'\n",
    "path = '/content/drive/MyDrive/ADV_ML/'\n",
    "results_resnet = train_model(model_resnet, optimizer, exp_lr_scheduler, train_loader, val_loader, model_name, 64, path)\n"
   ]
  },
  {
   "cell_type": "markdown",
   "metadata": {
    "id": "efoORTGZv_Oy"
   },
   "source": [
    "##resnet with dropout"
   ]
  },
  {
   "cell_type": "code",
   "execution_count": 364,
   "metadata": {
    "id": "_O-jwJbOeH9d"
   },
   "outputs": [],
   "source": [
    "model_resnet2 = models.resnet18(pretrained=True)"
   ]
  },
  {
   "cell_type": "code",
   "execution_count": 365,
   "metadata": {
    "id": "e77_5TFSrToa"
   },
   "outputs": [],
   "source": [
    "class BasicBlockWithDropout(nn.Module):\n",
    "    expansion = 1\n",
    "\n",
    "    def __init__(self, inplanes, planes, stride=1, downsample=None):\n",
    "        super(BasicBlockWithDropout, self).__init__()\n",
    "        self.conv1 = nn.Conv2d(inplanes, planes, kernel_size=3, stride=stride, padding=1, bias=False)\n",
    "        self.bn1 = nn.BatchNorm2d(planes)\n",
    "        self.relu = nn.ReLU(inplace=True)\n",
    "        self.dropout = nn.Dropout(p=0.5)\n",
    "        self.conv2 = nn.Conv2d(planes, planes, kernel_size=3, padding=1, bias=False)\n",
    "        self.bn2 = nn.BatchNorm2d(planes)\n",
    "        self.downsample = downsample\n",
    "        self.stride = stride\n",
    "\n",
    "    def forward(self, x):\n",
    "        identity = x\n",
    "\n",
    "        out = self.conv1(x)\n",
    "        out = self.bn1(out)\n",
    "        out = self.relu(out)\n",
    "        out = self.dropout(out)\n",
    "\n",
    "        out = self.conv2(out)\n",
    "        out = self.bn2(out)\n",
    "        out = self.dropout(out)\n",
    "\n",
    "        if self.downsample is not None:\n",
    "            identity = self.downsample(x)\n",
    "\n",
    "        out += identity\n",
    "        out = self.relu(out)\n",
    "\n",
    "        return out\n"
   ]
  },
  {
   "cell_type": "code",
   "execution_count": 365,
   "metadata": {
    "id": "W0ir8yHBING2"
   },
   "outputs": [],
   "source": []
  },
  {
   "cell_type": "code",
   "execution_count": 366,
   "metadata": {
    "id": "uh7225LGrUNF"
   },
   "outputs": [],
   "source": [
    "def replace_layers(model, block):\n",
    "    for name, module in model.named_children():\n",
    "        if isinstance(module, models.resnet.BasicBlock):\n",
    "            setattr(model, name, block(module.conv1.in_channels,\n",
    "                                       module.conv2.out_channels,\n",
    "                                       module.stride,\n",
    "                                       module.downsample))\n",
    "        elif \"layer\" in name:\n",
    "            # Replace all basic blocks in each layer\n",
    "            for name2, sub_module in module.named_children():\n",
    "                if isinstance(sub_module, models.resnet.BasicBlock):\n",
    "                    module[int(name2)] = block(sub_module.conv1.in_channels,\n",
    "                                               sub_module.conv2.out_channels,\n",
    "                                               sub_module.stride,\n",
    "                                               sub_module.downsample)\n",
    "        else:\n",
    "            replace_layers(module, block)\n",
    "\n"
   ]
  },
  {
   "cell_type": "code",
   "execution_count": 367,
   "metadata": {
    "id": "z1Jv5n3krp0J"
   },
   "outputs": [],
   "source": [
    "replace_layers(model_resnet2, BasicBlockWithDropout)"
   ]
  },
  {
   "cell_type": "code",
   "execution_count": 368,
   "metadata": {
    "id": "DpRLbqDyrWhR"
   },
   "outputs": [],
   "source": [
    "num_ftrs = model_resnet2.fc.in_features\n",
    "model_resnet2.fc = nn.Linear(num_ftrs, 9)  # Adjust for your number of classes\n",
    "model_resnet2.conv1 = nn.Conv2d(2, 64, kernel_size=(7, 7), stride=(2, 2), padding=(3, 3), bias=False)\n"
   ]
  },
  {
   "cell_type": "code",
   "execution_count": 369,
   "metadata": {
    "id": "PC0ZJ_RLx5ie"
   },
   "outputs": [],
   "source": [
    "#for param in model_resnet2.parameters():\n",
    "#    param.requires_grad = False\n",
    "\n",
    "#model_resnet2.fc.requires_grad = True  # Ensure the fc layer's weights are trainable\n"
   ]
  },
  {
   "cell_type": "code",
   "execution_count": 370,
   "metadata": {
    "colab": {
     "base_uri": "https://localhost:8080/"
    },
    "id": "9g0fH4aMraGw",
    "outputId": "2178114b-89df-4089-956e-647ddf06822b"
   },
   "outputs": [
    {
     "data": {
      "text/plain": [
       "ResNet(\n",
       "  (conv1): Conv2d(2, 64, kernel_size=(7, 7), stride=(2, 2), padding=(3, 3), bias=False)\n",
       "  (bn1): BatchNorm2d(64, eps=1e-05, momentum=0.1, affine=True, track_running_stats=True)\n",
       "  (relu): ReLU(inplace=True)\n",
       "  (maxpool): MaxPool2d(kernel_size=3, stride=2, padding=1, dilation=1, ceil_mode=False)\n",
       "  (layer1): Sequential(\n",
       "    (0): BasicBlockWithDropout(\n",
       "      (conv1): Conv2d(64, 64, kernel_size=(3, 3), stride=(1, 1), padding=(1, 1), bias=False)\n",
       "      (bn1): BatchNorm2d(64, eps=1e-05, momentum=0.1, affine=True, track_running_stats=True)\n",
       "      (relu): ReLU(inplace=True)\n",
       "      (dropout): Dropout(p=0.5, inplace=False)\n",
       "      (conv2): Conv2d(64, 64, kernel_size=(3, 3), stride=(1, 1), padding=(1, 1), bias=False)\n",
       "      (bn2): BatchNorm2d(64, eps=1e-05, momentum=0.1, affine=True, track_running_stats=True)\n",
       "    )\n",
       "    (1): BasicBlockWithDropout(\n",
       "      (conv1): Conv2d(64, 64, kernel_size=(3, 3), stride=(1, 1), padding=(1, 1), bias=False)\n",
       "      (bn1): BatchNorm2d(64, eps=1e-05, momentum=0.1, affine=True, track_running_stats=True)\n",
       "      (relu): ReLU(inplace=True)\n",
       "      (dropout): Dropout(p=0.5, inplace=False)\n",
       "      (conv2): Conv2d(64, 64, kernel_size=(3, 3), stride=(1, 1), padding=(1, 1), bias=False)\n",
       "      (bn2): BatchNorm2d(64, eps=1e-05, momentum=0.1, affine=True, track_running_stats=True)\n",
       "    )\n",
       "  )\n",
       "  (layer2): Sequential(\n",
       "    (0): BasicBlockWithDropout(\n",
       "      (conv1): Conv2d(64, 128, kernel_size=(3, 3), stride=(2, 2), padding=(1, 1), bias=False)\n",
       "      (bn1): BatchNorm2d(128, eps=1e-05, momentum=0.1, affine=True, track_running_stats=True)\n",
       "      (relu): ReLU(inplace=True)\n",
       "      (dropout): Dropout(p=0.5, inplace=False)\n",
       "      (conv2): Conv2d(128, 128, kernel_size=(3, 3), stride=(1, 1), padding=(1, 1), bias=False)\n",
       "      (bn2): BatchNorm2d(128, eps=1e-05, momentum=0.1, affine=True, track_running_stats=True)\n",
       "      (downsample): Sequential(\n",
       "        (0): Conv2d(64, 128, kernel_size=(1, 1), stride=(2, 2), bias=False)\n",
       "        (1): BatchNorm2d(128, eps=1e-05, momentum=0.1, affine=True, track_running_stats=True)\n",
       "      )\n",
       "    )\n",
       "    (1): BasicBlockWithDropout(\n",
       "      (conv1): Conv2d(128, 128, kernel_size=(3, 3), stride=(1, 1), padding=(1, 1), bias=False)\n",
       "      (bn1): BatchNorm2d(128, eps=1e-05, momentum=0.1, affine=True, track_running_stats=True)\n",
       "      (relu): ReLU(inplace=True)\n",
       "      (dropout): Dropout(p=0.5, inplace=False)\n",
       "      (conv2): Conv2d(128, 128, kernel_size=(3, 3), stride=(1, 1), padding=(1, 1), bias=False)\n",
       "      (bn2): BatchNorm2d(128, eps=1e-05, momentum=0.1, affine=True, track_running_stats=True)\n",
       "    )\n",
       "  )\n",
       "  (layer3): Sequential(\n",
       "    (0): BasicBlockWithDropout(\n",
       "      (conv1): Conv2d(128, 256, kernel_size=(3, 3), stride=(2, 2), padding=(1, 1), bias=False)\n",
       "      (bn1): BatchNorm2d(256, eps=1e-05, momentum=0.1, affine=True, track_running_stats=True)\n",
       "      (relu): ReLU(inplace=True)\n",
       "      (dropout): Dropout(p=0.5, inplace=False)\n",
       "      (conv2): Conv2d(256, 256, kernel_size=(3, 3), stride=(1, 1), padding=(1, 1), bias=False)\n",
       "      (bn2): BatchNorm2d(256, eps=1e-05, momentum=0.1, affine=True, track_running_stats=True)\n",
       "      (downsample): Sequential(\n",
       "        (0): Conv2d(128, 256, kernel_size=(1, 1), stride=(2, 2), bias=False)\n",
       "        (1): BatchNorm2d(256, eps=1e-05, momentum=0.1, affine=True, track_running_stats=True)\n",
       "      )\n",
       "    )\n",
       "    (1): BasicBlockWithDropout(\n",
       "      (conv1): Conv2d(256, 256, kernel_size=(3, 3), stride=(1, 1), padding=(1, 1), bias=False)\n",
       "      (bn1): BatchNorm2d(256, eps=1e-05, momentum=0.1, affine=True, track_running_stats=True)\n",
       "      (relu): ReLU(inplace=True)\n",
       "      (dropout): Dropout(p=0.5, inplace=False)\n",
       "      (conv2): Conv2d(256, 256, kernel_size=(3, 3), stride=(1, 1), padding=(1, 1), bias=False)\n",
       "      (bn2): BatchNorm2d(256, eps=1e-05, momentum=0.1, affine=True, track_running_stats=True)\n",
       "    )\n",
       "  )\n",
       "  (layer4): Sequential(\n",
       "    (0): BasicBlockWithDropout(\n",
       "      (conv1): Conv2d(256, 512, kernel_size=(3, 3), stride=(2, 2), padding=(1, 1), bias=False)\n",
       "      (bn1): BatchNorm2d(512, eps=1e-05, momentum=0.1, affine=True, track_running_stats=True)\n",
       "      (relu): ReLU(inplace=True)\n",
       "      (dropout): Dropout(p=0.5, inplace=False)\n",
       "      (conv2): Conv2d(512, 512, kernel_size=(3, 3), stride=(1, 1), padding=(1, 1), bias=False)\n",
       "      (bn2): BatchNorm2d(512, eps=1e-05, momentum=0.1, affine=True, track_running_stats=True)\n",
       "      (downsample): Sequential(\n",
       "        (0): Conv2d(256, 512, kernel_size=(1, 1), stride=(2, 2), bias=False)\n",
       "        (1): BatchNorm2d(512, eps=1e-05, momentum=0.1, affine=True, track_running_stats=True)\n",
       "      )\n",
       "    )\n",
       "    (1): BasicBlockWithDropout(\n",
       "      (conv1): Conv2d(512, 512, kernel_size=(3, 3), stride=(1, 1), padding=(1, 1), bias=False)\n",
       "      (bn1): BatchNorm2d(512, eps=1e-05, momentum=0.1, affine=True, track_running_stats=True)\n",
       "      (relu): ReLU(inplace=True)\n",
       "      (dropout): Dropout(p=0.5, inplace=False)\n",
       "      (conv2): Conv2d(512, 512, kernel_size=(3, 3), stride=(1, 1), padding=(1, 1), bias=False)\n",
       "      (bn2): BatchNorm2d(512, eps=1e-05, momentum=0.1, affine=True, track_running_stats=True)\n",
       "    )\n",
       "  )\n",
       "  (avgpool): AdaptiveAvgPool2d(output_size=(1, 1))\n",
       "  (fc): Linear(in_features=512, out_features=9, bias=True)\n",
       ")"
      ]
     },
     "execution_count": 370,
     "metadata": {},
     "output_type": "execute_result"
    }
   ],
   "source": [
    "model_resnet2 = model_resnet2.to(device)\n",
    "model_resnet2"
   ]
  },
  {
   "cell_type": "code",
   "execution_count": 371,
   "metadata": {
    "id": "0g7C-sxgvsHP"
   },
   "outputs": [],
   "source": [
    "optimizer = torch.optim.Adam(model_resnet2.parameters(), lr=0.0004)\n",
    "exp_lr_scheduler = lr_scheduler.StepLR(optimizer, step_size=8, gamma=0.1)\n"
   ]
  },
  {
   "cell_type": "code",
   "execution_count": 372,
   "metadata": {
    "colab": {
     "base_uri": "https://localhost:8080/",
     "height": 1000
    },
    "id": "jg_D9hgYrgmx",
    "outputId": "5fd9d78c-cd59-45fd-bbbf-3147be13f6ea"
   },
   "outputs": [
    {
     "name": "stdout",
     "output_type": "stream",
     "text": [
      "Running on cuda\n"
     ]
    },
    {
     "name": "stderr",
     "output_type": "stream",
     "text": []
    },
    {
     "name": "stdout",
     "output_type": "stream",
     "text": [
      "Epoch 1: Train_loss: 1.830, Train_Acc: 0.235, Train_F1: 0.223, Val_loss: 1.705, Val_Acc: 0.306, Val_F1: 0.232\n"
     ]
    },
    {
     "name": "stderr",
     "output_type": "stream",
     "text": []
    },
    {
     "name": "stdout",
     "output_type": "stream",
     "text": [
      "Epoch 2: Train_loss: 1.444, Train_Acc: 0.437, Train_F1: 0.418, Val_loss: 1.573, Val_Acc: 0.399, Val_F1: 0.354\n"
     ]
    },
    {
     "name": "stderr",
     "output_type": "stream",
     "text": []
    },
    {
     "name": "stdout",
     "output_type": "stream",
     "text": [
      "Epoch 3: Train_loss: 1.300, Train_Acc: 0.481, Train_F1: 0.464, Val_loss: 1.401, Val_Acc: 0.445, Val_F1: 0.431\n"
     ]
    },
    {
     "name": "stderr",
     "output_type": "stream",
     "text": []
    },
    {
     "name": "stdout",
     "output_type": "stream",
     "text": [
      "Epoch 4: Train_loss: 1.251, Train_Acc: 0.501, Train_F1: 0.483, Val_loss: 1.775, Val_Acc: 0.306, Val_F1: 0.272\n"
     ]
    },
    {
     "name": "stderr",
     "output_type": "stream",
     "text": []
    },
    {
     "name": "stdout",
     "output_type": "stream",
     "text": [
      "Epoch 5: Train_loss: 1.195, Train_Acc: 0.532, Train_F1: 0.514, Val_loss: 1.692, Val_Acc: 0.317, Val_F1: 0.284\n"
     ]
    },
    {
     "name": "stderr",
     "output_type": "stream",
     "text": []
    },
    {
     "name": "stdout",
     "output_type": "stream",
     "text": [
      "Epoch 6: Train_loss: 1.133, Train_Acc: 0.557, Train_F1: 0.540, Val_loss: 1.069, Val_Acc: 0.576, Val_F1: 0.552\n"
     ]
    },
    {
     "name": "stderr",
     "output_type": "stream",
     "text": []
    },
    {
     "name": "stdout",
     "output_type": "stream",
     "text": [
      "Epoch 7: Train_loss: 1.054, Train_Acc: 0.593, Train_F1: 0.577, Val_loss: 1.159, Val_Acc: 0.568, Val_F1: 0.530\n"
     ]
    },
    {
     "name": "stderr",
     "output_type": "stream",
     "text": []
    },
    {
     "name": "stdout",
     "output_type": "stream",
     "text": [
      "Epoch 8: Train_loss: 0.989, Train_Acc: 0.618, Train_F1: 0.603, Val_loss: 0.983, Val_Acc: 0.621, Val_F1: 0.614\n"
     ]
    },
    {
     "name": "stderr",
     "output_type": "stream",
     "text": []
    },
    {
     "name": "stdout",
     "output_type": "stream",
     "text": [
      "Epoch 9: Train_loss: 0.894, Train_Acc: 0.657, Train_F1: 0.642, Val_loss: 1.001, Val_Acc: 0.624, Val_F1: 0.604\n"
     ]
    },
    {
     "name": "stderr",
     "output_type": "stream",
     "text": []
    },
    {
     "name": "stdout",
     "output_type": "stream",
     "text": [
      "Epoch 10: Train_loss: 0.870, Train_Acc: 0.668, Train_F1: 0.655, Val_loss: 0.823, Val_Acc: 0.686, Val_F1: 0.673\n"
     ]
    },
    {
     "name": "stderr",
     "output_type": "stream",
     "text": []
    },
    {
     "name": "stdout",
     "output_type": "stream",
     "text": [
      "Epoch 11: Train_loss: 0.855, Train_Acc: 0.673, Train_F1: 0.660, Val_loss: 0.884, Val_Acc: 0.668, Val_F1: 0.649\n"
     ]
    },
    {
     "name": "stderr",
     "output_type": "stream",
     "text": []
    },
    {
     "name": "stdout",
     "output_type": "stream",
     "text": [
      "Epoch 12: Train_loss: 0.843, Train_Acc: 0.680, Train_F1: 0.668, Val_loss: 0.852, Val_Acc: 0.677, Val_F1: 0.666\n"
     ]
    },
    {
     "name": "stderr",
     "output_type": "stream",
     "text": []
    },
    {
     "name": "stdout",
     "output_type": "stream",
     "text": [
      "Epoch 13: Train_loss: 0.832, Train_Acc: 0.685, Train_F1: 0.673, Val_loss: 0.845, Val_Acc: 0.687, Val_F1: 0.677\n"
     ]
    },
    {
     "name": "stderr",
     "output_type": "stream",
     "text": []
    },
    {
     "name": "stdout",
     "output_type": "stream",
     "text": [
      "Epoch 14: Train_loss: 0.820, Train_Acc: 0.689, Train_F1: 0.677, Val_loss: 1.240, Val_Acc: 0.558, Val_F1: 0.538\n"
     ]
    },
    {
     "name": "stderr",
     "output_type": "stream",
     "text": []
    },
    {
     "name": "stdout",
     "output_type": "stream",
     "text": [
      "Epoch 15: Train_loss: 0.811, Train_Acc: 0.691, Train_F1: 0.680, Val_loss: 0.898, Val_Acc: 0.666, Val_F1: 0.655\n"
     ]
    },
    {
     "name": "stderr",
     "output_type": "stream",
     "text": []
    },
    {
     "name": "stdout",
     "output_type": "stream",
     "text": [
      "Epoch 16: Train_loss: 0.797, Train_Acc: 0.701, Train_F1: 0.689, Val_loss: 0.752, Val_Acc: 0.720, Val_F1: 0.709\n"
     ]
    },
    {
     "name": "stderr",
     "output_type": "stream",
     "text": []
    },
    {
     "name": "stdout",
     "output_type": "stream",
     "text": [
      "Epoch 17: Train_loss: 0.785, Train_Acc: 0.703, Train_F1: 0.692, Val_loss: 0.839, Val_Acc: 0.690, Val_F1: 0.681\n"
     ]
    },
    {
     "name": "stderr",
     "output_type": "stream",
     "text": []
    },
    {
     "name": "stdout",
     "output_type": "stream",
     "text": [
      "Epoch 18: Train_loss: 0.782, Train_Acc: 0.703, Train_F1: 0.692, Val_loss: 0.747, Val_Acc: 0.720, Val_F1: 0.709\n"
     ]
    },
    {
     "name": "stderr",
     "output_type": "stream",
     "text": []
    },
    {
     "name": "stdout",
     "output_type": "stream",
     "text": [
      "Epoch 19: Train_loss: 0.780, Train_Acc: 0.707, Train_F1: 0.696, Val_loss: 0.757, Val_Acc: 0.717, Val_F1: 0.707\n"
     ]
    },
    {
     "name": "stderr",
     "output_type": "stream",
     "text": []
    },
    {
     "name": "stdout",
     "output_type": "stream",
     "text": [
      "Epoch 20: Train_loss: 0.778, Train_Acc: 0.708, Train_F1: 0.697, Val_loss: 0.727, Val_Acc: 0.732, Val_F1: 0.721\n"
     ]
    },
    {
     "name": "stderr",
     "output_type": "stream",
     "text": []
    },
    {
     "name": "stdout",
     "output_type": "stream",
     "text": [
      "Epoch 21: Train_loss: 0.778, Train_Acc: 0.708, Train_F1: 0.696, Val_loss: 0.765, Val_Acc: 0.714, Val_F1: 0.703\n"
     ]
    },
    {
     "name": "stderr",
     "output_type": "stream",
     "text": []
    },
    {
     "name": "stdout",
     "output_type": "stream",
     "text": [
      "Epoch 22: Train_loss: 0.780, Train_Acc: 0.707, Train_F1: 0.695, Val_loss: 0.757, Val_Acc: 0.715, Val_F1: 0.705\n"
     ]
    },
    {
     "name": "stderr",
     "output_type": "stream",
     "text": []
    },
    {
     "name": "stdout",
     "output_type": "stream",
     "text": [
      "Epoch 23: Train_loss: 0.777, Train_Acc: 0.710, Train_F1: 0.698, Val_loss: 0.747, Val_Acc: 0.718, Val_F1: 0.709\n"
     ]
    },
    {
     "name": "stderr",
     "output_type": "stream",
     "text": []
    },
    {
     "name": "stdout",
     "output_type": "stream",
     "text": [
      "Epoch 24: Train_loss: 0.778, Train_Acc: 0.708, Train_F1: 0.697, Val_loss: 1.004, Val_Acc: 0.634, Val_F1: 0.629\n"
     ]
    },
    {
     "name": "stderr",
     "output_type": "stream",
     "text": []
    },
    {
     "name": "stdout",
     "output_type": "stream",
     "text": [
      "Epoch 25: Train_loss: 0.771, Train_Acc: 0.710, Train_F1: 0.699, Val_loss: 1.665, Val_Acc: 0.369, Val_F1: 0.354\n"
     ]
    },
    {
     "name": "stderr",
     "output_type": "stream",
     "text": []
    },
    {
     "name": "stdout",
     "output_type": "stream",
     "text": [
      "Epoch 26: Train_loss: 0.773, Train_Acc: 0.708, Train_F1: 0.696, Val_loss: 0.759, Val_Acc: 0.718, Val_F1: 0.708\n"
     ]
    },
    {
     "name": "stderr",
     "output_type": "stream",
     "text": []
    },
    {
     "name": "stdout",
     "output_type": "stream",
     "text": [
      "Epoch 27: Train_loss: 0.772, Train_Acc: 0.711, Train_F1: 0.700, Val_loss: 0.741, Val_Acc: 0.724, Val_F1: 0.714\n"
     ]
    },
    {
     "name": "stderr",
     "output_type": "stream",
     "text": []
    },
    {
     "name": "stdout",
     "output_type": "stream",
     "text": [
      "Epoch 28: Train_loss: 0.775, Train_Acc: 0.711, Train_F1: 0.700, Val_loss: 0.887, Val_Acc: 0.668, Val_F1: 0.659\n"
     ]
    },
    {
     "name": "stderr",
     "output_type": "stream",
     "text": []
    },
    {
     "name": "stdout",
     "output_type": "stream",
     "text": [
      "Epoch 29: Train_loss: 0.778, Train_Acc: 0.709, Train_F1: 0.698, Val_loss: 0.823, Val_Acc: 0.689, Val_F1: 0.679\n"
     ]
    },
    {
     "name": "stderr",
     "output_type": "stream",
     "text": []
    },
    {
     "name": "stdout",
     "output_type": "stream",
     "text": [
      "Epoch 30: Train_loss: 0.781, Train_Acc: 0.705, Train_F1: 0.694, Val_loss: 0.908, Val_Acc: 0.660, Val_F1: 0.653\n"
     ]
    },
    {
     "name": "stderr",
     "output_type": "stream",
     "text": []
    },
    {
     "name": "stdout",
     "output_type": "stream",
     "text": [
      "Epoch 31: Train_loss: 0.774, Train_Acc: 0.708, Train_F1: 0.696, Val_loss: 0.720, Val_Acc: 0.731, Val_F1: 0.721\n"
     ]
    },
    {
     "name": "stderr",
     "output_type": "stream",
     "text": []
    },
    {
     "name": "stdout",
     "output_type": "stream",
     "text": [
      "Epoch 32: Train_loss: 0.776, Train_Acc: 0.707, Train_F1: 0.696, Val_loss: 1.036, Val_Acc: 0.599, Val_F1: 0.591\n"
     ]
    },
    {
     "name": "stderr",
     "output_type": "stream",
     "text": []
    },
    {
     "name": "stdout",
     "output_type": "stream",
     "text": [
      "Epoch 33: Train_loss: 0.771, Train_Acc: 0.709, Train_F1: 0.698, Val_loss: 0.756, Val_Acc: 0.715, Val_F1: 0.705\n"
     ]
    },
    {
     "name": "stderr",
     "output_type": "stream",
     "text": []
    },
    {
     "name": "stdout",
     "output_type": "stream",
     "text": [
      "Epoch 34: Train_loss: 0.776, Train_Acc: 0.707, Train_F1: 0.696, Val_loss: 0.932, Val_Acc: 0.646, Val_F1: 0.638\n"
     ]
    },
    {
     "name": "stderr",
     "output_type": "stream",
     "text": []
    },
    {
     "name": "stdout",
     "output_type": "stream",
     "text": [
      "Epoch 35: Train_loss: 0.774, Train_Acc: 0.707, Train_F1: 0.696, Val_loss: 1.019, Val_Acc: 0.623, Val_F1: 0.618\n"
     ]
    },
    {
     "name": "stderr",
     "output_type": "stream",
     "text": []
    },
    {
     "name": "stdout",
     "output_type": "stream",
     "text": [
      "Epoch 36: Train_loss: 0.775, Train_Acc: 0.709, Train_F1: 0.698, Val_loss: 0.757, Val_Acc: 0.718, Val_F1: 0.709\n"
     ]
    },
    {
     "name": "stderr",
     "output_type": "stream",
     "text": []
    },
    {
     "name": "stdout",
     "output_type": "stream",
     "text": [
      "Epoch 37: Train_loss: 0.770, Train_Acc: 0.712, Train_F1: 0.701, Val_loss: 0.748, Val_Acc: 0.723, Val_F1: 0.711\n"
     ]
    },
    {
     "name": "stderr",
     "output_type": "stream",
     "text": []
    },
    {
     "name": "stdout",
     "output_type": "stream",
     "text": [
      "Epoch 38: Train_loss: 0.773, Train_Acc: 0.708, Train_F1: 0.697, Val_loss: 0.832, Val_Acc: 0.688, Val_F1: 0.678\n"
     ]
    },
    {
     "name": "stderr",
     "output_type": "stream",
     "text": []
    },
    {
     "name": "stdout",
     "output_type": "stream",
     "text": [
      "Epoch 39: Train_loss: 0.773, Train_Acc: 0.709, Train_F1: 0.698, Val_loss: 0.729, Val_Acc: 0.727, Val_F1: 0.716\n"
     ]
    },
    {
     "name": "stderr",
     "output_type": "stream",
     "text": []
    },
    {
     "name": "stdout",
     "output_type": "stream",
     "text": [
      "Epoch 40: Train_loss: 0.771, Train_Acc: 0.710, Train_F1: 0.699, Val_loss: 0.868, Val_Acc: 0.672, Val_F1: 0.664\n"
     ]
    },
    {
     "name": "stderr",
     "output_type": "stream",
     "text": []
    },
    {
     "name": "stdout",
     "output_type": "stream",
     "text": [
      "Epoch 41: Train_loss: 0.776, Train_Acc: 0.708, Train_F1: 0.697, Val_loss: 0.726, Val_Acc: 0.728, Val_F1: 0.717\n"
     ]
    },
    {
     "name": "stderr",
     "output_type": "stream",
     "text": []
    },
    {
     "name": "stdout",
     "output_type": "stream",
     "text": [
      "Epoch 42: Train_loss: 0.773, Train_Acc: 0.710, Train_F1: 0.699, Val_loss: 0.892, Val_Acc: 0.667, Val_F1: 0.654\n"
     ]
    },
    {
     "name": "stderr",
     "output_type": "stream",
     "text": []
    },
    {
     "name": "stdout",
     "output_type": "stream",
     "text": [
      "Epoch 43: Train_loss: 0.773, Train_Acc: 0.708, Train_F1: 0.697, Val_loss: 0.730, Val_Acc: 0.726, Val_F1: 0.715\n"
     ]
    },
    {
     "name": "stderr",
     "output_type": "stream",
     "text": []
    },
    {
     "name": "stdout",
     "output_type": "stream",
     "text": [
      "Epoch 44: Train_loss: 0.773, Train_Acc: 0.709, Train_F1: 0.698, Val_loss: 0.738, Val_Acc: 0.723, Val_F1: 0.713\n"
     ]
    },
    {
     "name": "stderr",
     "output_type": "stream",
     "text": []
    },
    {
     "name": "stdout",
     "output_type": "stream",
     "text": [
      "Epoch 45: Train_loss: 0.777, Train_Acc: 0.708, Train_F1: 0.697, Val_loss: 0.752, Val_Acc: 0.719, Val_F1: 0.710\n"
     ]
    },
    {
     "name": "stderr",
     "output_type": "stream",
     "text": []
    },
    {
     "name": "stdout",
     "output_type": "stream",
     "text": [
      "Epoch 46: Train_loss: 0.771, Train_Acc: 0.708, Train_F1: 0.697, Val_loss: 0.857, Val_Acc: 0.677, Val_F1: 0.667\n"
     ]
    },
    {
     "name": "stderr",
     "output_type": "stream",
     "text": []
    },
    {
     "name": "stdout",
     "output_type": "stream",
     "text": [
      "Epoch 47: Train_loss: 0.769, Train_Acc: 0.710, Train_F1: 0.699, Val_loss: 1.034, Val_Acc: 0.610, Val_F1: 0.606\n"
     ]
    },
    {
     "name": "stderr",
     "output_type": "stream",
     "text": []
    },
    {
     "name": "stdout",
     "output_type": "stream",
     "text": [
      "Epoch 48: Train_loss: 0.773, Train_Acc: 0.709, Train_F1: 0.698, Val_loss: 0.751, Val_Acc: 0.718, Val_F1: 0.707\n"
     ]
    },
    {
     "name": "stderr",
     "output_type": "stream",
     "text": []
    },
    {
     "name": "stdout",
     "output_type": "stream",
     "text": [
      "Epoch 49: Train_loss: 0.773, Train_Acc: 0.714, Train_F1: 0.702, Val_loss: 0.744, Val_Acc: 0.721, Val_F1: 0.711\n"
     ]
    },
    {
     "name": "stderr",
     "output_type": "stream",
     "text": []
    },
    {
     "name": "stdout",
     "output_type": "stream",
     "text": [
      "Epoch 50: Train_loss: 0.772, Train_Acc: 0.707, Train_F1: 0.696, Val_loss: 0.780, Val_Acc: 0.708, Val_F1: 0.699\n"
     ]
    },
    {
     "name": "stderr",
     "output_type": "stream",
     "text": []
    },
    {
     "name": "stdout",
     "output_type": "stream",
     "text": [
      "Epoch 51: Train_loss: 0.770, Train_Acc: 0.709, Train_F1: 0.698, Val_loss: 0.769, Val_Acc: 0.711, Val_F1: 0.700\n"
     ]
    },
    {
     "name": "stderr",
     "output_type": "stream",
     "text": []
    },
    {
     "name": "stdout",
     "output_type": "stream",
     "text": [
      "Epoch 52: Train_loss: 0.769, Train_Acc: 0.709, Train_F1: 0.698, Val_loss: 0.851, Val_Acc: 0.678, Val_F1: 0.670\n"
     ]
    },
    {
     "name": "stderr",
     "output_type": "stream",
     "text": []
    },
    {
     "name": "stdout",
     "output_type": "stream",
     "text": [
      "Epoch 53: Train_loss: 0.770, Train_Acc: 0.711, Train_F1: 0.700, Val_loss: 0.903, Val_Acc: 0.659, Val_F1: 0.647\n"
     ]
    },
    {
     "name": "stderr",
     "output_type": "stream",
     "text": []
    },
    {
     "name": "stdout",
     "output_type": "stream",
     "text": [
      "Epoch 54: Train_loss: 0.774, Train_Acc: 0.710, Train_F1: 0.700, Val_loss: 0.786, Val_Acc: 0.707, Val_F1: 0.698\n"
     ]
    },
    {
     "name": "stderr",
     "output_type": "stream",
     "text": []
    },
    {
     "name": "stdout",
     "output_type": "stream",
     "text": [
      "Epoch 55: Train_loss: 0.774, Train_Acc: 0.709, Train_F1: 0.698, Val_loss: 0.730, Val_Acc: 0.725, Val_F1: 0.715\n"
     ]
    },
    {
     "name": "stderr",
     "output_type": "stream",
     "text": []
    },
    {
     "name": "stdout",
     "output_type": "stream",
     "text": [
      "Epoch 56: Train_loss: 0.773, Train_Acc: 0.708, Train_F1: 0.697, Val_loss: 0.763, Val_Acc: 0.714, Val_F1: 0.705\n"
     ]
    },
    {
     "name": "stderr",
     "output_type": "stream",
     "text": []
    },
    {
     "name": "stdout",
     "output_type": "stream",
     "text": [
      "Epoch 57: Train_loss: 0.773, Train_Acc: 0.710, Train_F1: 0.699, Val_loss: 0.751, Val_Acc: 0.719, Val_F1: 0.710\n"
     ]
    },
    {
     "name": "stderr",
     "output_type": "stream",
     "text": []
    },
    {
     "name": "stdout",
     "output_type": "stream",
     "text": [
      "Epoch 58: Train_loss: 0.774, Train_Acc: 0.707, Train_F1: 0.696, Val_loss: 0.897, Val_Acc: 0.662, Val_F1: 0.651\n"
     ]
    },
    {
     "name": "stderr",
     "output_type": "stream",
     "text": []
    },
    {
     "name": "stdout",
     "output_type": "stream",
     "text": [
      "Epoch 59: Train_loss: 0.775, Train_Acc: 0.709, Train_F1: 0.698, Val_loss: 0.895, Val_Acc: 0.672, Val_F1: 0.660\n"
     ]
    },
    {
     "name": "stderr",
     "output_type": "stream",
     "text": []
    },
    {
     "name": "stdout",
     "output_type": "stream",
     "text": [
      "Epoch 60: Train_loss: 0.773, Train_Acc: 0.710, Train_F1: 0.698, Val_loss: 0.730, Val_Acc: 0.724, Val_F1: 0.714\n"
     ]
    },
    {
     "name": "stderr",
     "output_type": "stream",
     "text": []
    },
    {
     "name": "stdout",
     "output_type": "stream",
     "text": [
      "Epoch 61: Train_loss: 0.777, Train_Acc: 0.709, Train_F1: 0.698, Val_loss: 0.737, Val_Acc: 0.724, Val_F1: 0.713\n"
     ]
    },
    {
     "name": "stderr",
     "output_type": "stream",
     "text": []
    },
    {
     "name": "stdout",
     "output_type": "stream",
     "text": [
      "Epoch 62: Train_loss: 0.777, Train_Acc: 0.707, Train_F1: 0.696, Val_loss: 0.745, Val_Acc: 0.720, Val_F1: 0.709\n"
     ]
    },
    {
     "name": "stderr",
     "output_type": "stream",
     "text": []
    },
    {
     "name": "stdout",
     "output_type": "stream",
     "text": [
      "Epoch 63: Train_loss: 0.774, Train_Acc: 0.710, Train_F1: 0.699, Val_loss: 0.807, Val_Acc: 0.700, Val_F1: 0.690\n"
     ]
    },
    {
     "name": "stderr",
     "output_type": "stream",
     "text": []
    },
    {
     "name": "stdout",
     "output_type": "stream",
     "text": [
      "Epoch 64: Train_loss: 0.775, Train_Acc: 0.708, Train_F1: 0.697, Val_loss: 0.741, Val_Acc: 0.721, Val_F1: 0.711\n",
      "Saved last model state\n"
     ]
    },
    {
     "data": {
      "image/png": "[encoded data removed]",
      "text/plain": [
       "<Figure size 1200x1200 with 3 Axes>"
      ]
     },
     "metadata": {},
     "output_type": "display_data"
    }
   ],
   "source": [
    "model_name = 'model_resnet_2'\n",
    "path = '/content/drive/MyDrive/ADV_ML/'\n",
    "results_resnet2 = train_model(model_resnet2, optimizer, exp_lr_scheduler, train_loader, val_loader,model_name, 64, path)"
   ]
  },
  {
   "cell_type": "markdown",
   "metadata": {
    "id": "PQyruB-NOgJ5"
   },
   "source": [
    "##let's try to use augementation on our dataset . we will use :"
   ]
  }
 ],
 "metadata": {
  "accelerator": "GPU",
  "colab": {
   "collapsed_sections": [
    "2laxbf866w1n"
   ],
   "gpuType": "T4",
   "provenance": []
  },
  "kernelspec": {
   "display_name": "Python 3 (ipykernel)",
   "language": "python",
   "name": "python3"
  },
  "language_info": {
   "codemirror_mode": {
    "name": "ipython",
    "version": 3
   },
   "file_extension": ".py",
   "mimetype": "text/x-python",
   "name": "python",
   "nbconvert_exporter": "python",
   "pygments_lexer": "ipython3",
   "version": "3.10.13"
  }
 },
 "nbformat": 4,
 "nbformat_minor": 1
}
