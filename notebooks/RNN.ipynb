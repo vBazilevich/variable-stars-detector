{
  "cells": [
    {
      "cell_type": "code",
      "source": [
        "from google.colab import drive\n",
        "drive.mount('/content/drive')"
      ],
      "metadata": {
        "id": "TJtp4VlfIle8",
        "colab": {
          "base_uri": "https://localhost:8080/"
        },
        "outputId": "aec294e0-81f5-4d1b-86f9-ef954036f4e9"
      },
      "execution_count": 1,
      "outputs": [
        {
          "output_type": "stream",
          "name": "stdout",
          "text": [
            "Mounted at /content/drive\n"
          ]
        }
      ]
    },
    {
      "cell_type": "code",
      "execution_count": 2,
      "metadata": {
        "deletable": true,
        "editable": true,
        "id": "q1m_8HHNIg6r"
      },
      "outputs": [],
      "source": [
        "import os\n",
        "import numpy as np\n",
        "import pandas as pd\n",
        "from sklearn.model_selection import train_test_split\n",
        "from sklearn.preprocessing import LabelEncoder\n",
        "from keras.models import Sequential\n",
        "from tqdm import tqdm\n",
        "from sklearn.utils import shuffle\n",
        "from keras.layers import LSTM, Dense, Dropout, Masking, Embedding, BatchNormalization\n",
        "from keras.callbacks import EarlyStopping, TensorBoard, ReduceLROnPlateau\n",
        "import matplotlib.pyplot as plt\n",
        "from sklearn.metrics import classification_report\n",
        "\n"
      ]
    },
    {
      "cell_type": "code",
      "source": [
        "!pip show tensorflow"
      ],
      "metadata": {
        "colab": {
          "base_uri": "https://localhost:8080/"
        },
        "id": "SK0Kaj5JQ6qP",
        "outputId": "3e38b524-e676-4a7e-94b4-66db8a67f9ba"
      },
      "execution_count": 3,
      "outputs": [
        {
          "output_type": "stream",
          "name": "stdout",
          "text": [
            "Name: tensorflow\n",
            "Version: 2.15.0\n",
            "Summary: TensorFlow is an open source machine learning framework for everyone.\n",
            "Home-page: https://www.tensorflow.org/\n",
            "Author: Google Inc.\n",
            "Author-email: packages@tensorflow.org\n",
            "License: Apache 2.0\n",
            "Location: /usr/local/lib/python3.10/dist-packages\n",
            "Requires: absl-py, astunparse, flatbuffers, gast, google-pasta, grpcio, h5py, keras, libclang, ml-dtypes, numpy, opt-einsum, packaging, protobuf, setuptools, six, tensorboard, tensorflow-estimator, tensorflow-io-gcs-filesystem, termcolor, typing-extensions, wrapt\n",
            "Required-by: dopamine-rl, tf_keras\n"
          ]
        }
      ]
    },
    {
      "cell_type": "code",
      "source": [
        "data_folder = \"/content/drive/MyDrive/AML_ex\"\n",
        "data_files = os.listdir(data_folder)\n",
        "\n",
        "# # Settings\n",
        "# verbose = True\n",
        "# batch_size = 256\n",
        "# dropout = 0.5\n",
        "# hidden_dims = 128\n",
        "# epochs = 10\n",
        "# filters = 128\n",
        "# filters2 = 64\n",
        "# kernel_size = 50\n",
        "# kernel_size2 = 50"
      ],
      "metadata": {
        "id": "1SpAnTPBJvcE"
      },
      "execution_count": 4,
      "outputs": []
    },
    {
      "cell_type": "code",
      "source": [
        "data_files"
      ],
      "metadata": {
        "colab": {
          "base_uri": "https://localhost:8080/"
        },
        "id": "AGF7Qc1dNYxb",
        "outputId": "364ed677-8fde-4ef3-ab4b-ddb855203213"
      },
      "execution_count": 5,
      "outputs": [
        {
          "output_type": "execute_result",
          "data": {
            "text/plain": [
              "['yso_preprocessed',\n",
              " 'acep_preprocessed',\n",
              " 't2cep_preprocessed',\n",
              " 'acv_preprocessed',\n",
              " 'ecl_preprocessed']"
            ]
          },
          "metadata": {},
          "execution_count": 5
        }
      ]
    },
    {
      "cell_type": "code",
      "source": [
        "labels = [file.split('_')[0] for file in data_files]"
      ],
      "metadata": {
        "id": "VGRU6viFOylM"
      },
      "execution_count": 6,
      "outputs": []
    },
    {
      "cell_type": "code",
      "source": [
        "labels"
      ],
      "metadata": {
        "colab": {
          "base_uri": "https://localhost:8080/"
        },
        "id": "gMHCcwsnO10V",
        "outputId": "f8dcd85a-c148-44b1-d2de-bda8f8c27058"
      },
      "execution_count": 7,
      "outputs": [
        {
          "output_type": "execute_result",
          "data": {
            "text/plain": [
              "['yso', 'acep', 't2cep', 'acv', 'ecl']"
            ]
          },
          "metadata": {},
          "execution_count": 7
        }
      ]
    },
    {
      "cell_type": "code",
      "source": [
        "data = []\n",
        "labels = []\n",
        "\n",
        "for folder in data_files:\n",
        "    if folder.endswith('_preprocessed'):\n",
        "        label = folder.split('_')[0]\n",
        "        folder_path = os.path.join(data_folder, folder)\n",
        "        files = os.listdir(folder_path)\n",
        "        for file in files:\n",
        "            file_path = os.path.join(folder_path, file)\n",
        "            df = pd.read_csv(file_path)\n",
        "            data.append(df[['time_diff', 'mag_diff']].values)\n",
        "            labels.append(label)\n",
        "\n",
        "data = np.array(data)\n",
        "labels = np.array(labels)"
      ],
      "metadata": {
        "id": "Q2qAcKsgO90j"
      },
      "execution_count": 8,
      "outputs": []
    },
    {
      "cell_type": "code",
      "source": [
        "label_encoder = LabelEncoder()\n",
        "encoded_labels = label_encoder.fit_transform(labels)"
      ],
      "metadata": {
        "id": "VCSJArukZQQc"
      },
      "execution_count": 9,
      "outputs": []
    },
    {
      "cell_type": "code",
      "source": [
        "labels"
      ],
      "metadata": {
        "colab": {
          "base_uri": "https://localhost:8080/"
        },
        "id": "CzvLYiASRxLp",
        "outputId": "ab18860a-cd5e-4bb3-dcc5-da86d411a0e4"
      },
      "execution_count": 10,
      "outputs": [
        {
          "output_type": "execute_result",
          "data": {
            "text/plain": [
              "array(['yso', 'yso', 'yso', ..., 'ecl', 'ecl', 'ecl'], dtype='<U5')"
            ]
          },
          "metadata": {},
          "execution_count": 10
        }
      ]
    },
    {
      "cell_type": "code",
      "source": [
        "encoded_labels"
      ],
      "metadata": {
        "colab": {
          "base_uri": "https://localhost:8080/"
        },
        "id": "yofIEDt_yYHA",
        "outputId": "195995ce-f616-4545-f7b2-598cbaf30400"
      },
      "execution_count": 11,
      "outputs": [
        {
          "output_type": "execute_result",
          "data": {
            "text/plain": [
              "array([4, 4, 4, ..., 2, 2, 2])"
            ]
          },
          "metadata": {},
          "execution_count": 11
        }
      ]
    },
    {
      "cell_type": "code",
      "source": [
        "data"
      ],
      "metadata": {
        "colab": {
          "base_uri": "https://localhost:8080/"
        },
        "id": "SEtEKaiIZOnb",
        "outputId": "d7320a6b-b002-4516-d572-3e511d4540cf"
      },
      "execution_count": 12,
      "outputs": [
        {
          "output_type": "execute_result",
          "data": {
            "text/plain": [
              "array([[[ 0.000000e+00,  0.000000e+00],\n",
              "        [ 1.137000e-02,  2.000000e-03],\n",
              "        [ 1.250000e-02, -1.600000e-02],\n",
              "        ...,\n",
              "        [ 1.129000e-02, -1.900000e-02],\n",
              "        [ 1.132000e-02, -2.100000e-02],\n",
              "        [ 1.129000e-02, -3.700000e-02]],\n",
              "\n",
              "       [[ 0.000000e+00,  0.000000e+00],\n",
              "        [ 1.724000e-02,  1.000000e-03],\n",
              "        [ 1.067000e-02,  0.000000e+00],\n",
              "        ...,\n",
              "        [ 1.112000e-02,  7.000000e-03],\n",
              "        [ 1.071000e-02,  1.000000e-03],\n",
              "        [ 1.072000e-02,  7.000000e-03]],\n",
              "\n",
              "       [[ 0.000000e+00,  0.000000e+00],\n",
              "        [ 1.068000e-02, -1.200000e-02],\n",
              "        [ 1.066000e-02,  3.000000e-03],\n",
              "        ...,\n",
              "        [ 1.072000e-02,  7.000000e-03],\n",
              "        [ 1.075000e-02,  1.000000e-03],\n",
              "        [ 1.069000e-02,  4.000000e-03]],\n",
              "\n",
              "       ...,\n",
              "\n",
              "       [[ 0.000000e+00,  0.000000e+00],\n",
              "        [ 8.040320e+00,  9.900000e-02],\n",
              "        [ 1.959390e+00, -1.960000e-01],\n",
              "        ...,\n",
              "        [ 3.991390e+00,  1.190000e-01],\n",
              "        [ 4.981640e+00, -1.730000e-01],\n",
              "        [ 2.941690e+00,  1.850000e-01]],\n",
              "\n",
              "       [[ 0.000000e+00,  0.000000e+00],\n",
              "        [ 1.896589e+01, -1.800000e-02],\n",
              "        [ 4.039740e+00,  4.810000e-01],\n",
              "        ...,\n",
              "        [ 0.000000e+00,  0.000000e+00],\n",
              "        [ 0.000000e+00,  0.000000e+00],\n",
              "        [ 0.000000e+00,  0.000000e+00]],\n",
              "\n",
              "       [[ 0.000000e+00,  0.000000e+00],\n",
              "        [ 6.007350e+00, -4.400000e-02],\n",
              "        [ 1.693776e+01, -3.000000e-03],\n",
              "        ...,\n",
              "        [ 0.000000e+00,  0.000000e+00],\n",
              "        [ 0.000000e+00,  0.000000e+00],\n",
              "        [ 0.000000e+00,  0.000000e+00]]])"
            ]
          },
          "metadata": {},
          "execution_count": 12
        }
      ]
    },
    {
      "cell_type": "code",
      "source": [
        "from collections import Counter\n",
        "\n",
        "label_counts = Counter(labels)\n",
        "filtered_labels = [label for label in label_counts if label_counts[label] >= 200]\n",
        "\n",
        "filtered_data = []\n",
        "filtered_encoded_labels = []\n",
        "for i, label in enumerate(labels):\n",
        "    if label in filtered_labels:\n",
        "        filtered_data.append(data[i])\n",
        "        filtered_encoded_labels.append(encoded_labels[i])\n",
        "\n",
        "filtered_data = np.array(filtered_data)\n",
        "filtered_encoded_labels = np.array(filtered_encoded_labels)\n"
      ],
      "metadata": {
        "id": "Ftt6hLunxwdz"
      },
      "execution_count": 13,
      "outputs": []
    },
    {
      "cell_type": "code",
      "source": [
        "filtered_encoded_labels"
      ],
      "metadata": {
        "colab": {
          "base_uri": "https://localhost:8080/"
        },
        "id": "CHbf4yVtyNot",
        "outputId": "407380d4-6502-4b84-e74e-2a06b3471e70"
      },
      "execution_count": 14,
      "outputs": [
        {
          "output_type": "execute_result",
          "data": {
            "text/plain": [
              "array([0, 0, 0, ..., 2, 2, 2])"
            ]
          },
          "metadata": {},
          "execution_count": 14
        }
      ]
    },
    {
      "cell_type": "code",
      "source": [
        "X_train, X_test, y_train, y_test = train_test_split(filtered_data, filtered_encoded_labels, test_size=0.2, random_state=42)"
      ],
      "metadata": {
        "id": "LRKhNi7YWqRi"
      },
      "execution_count": 15,
      "outputs": []
    },
    {
      "cell_type": "code",
      "source": [
        "X_train"
      ],
      "metadata": {
        "colab": {
          "base_uri": "https://localhost:8080/"
        },
        "id": "h48Ish1qyrvR",
        "outputId": "c69a3c37-1905-4ec1-fcaf-10d3cea2b5c1"
      },
      "execution_count": 16,
      "outputs": [
        {
          "output_type": "execute_result",
          "data": {
            "text/plain": [
              "array([[[ 0.000000e+00,  0.000000e+00],\n",
              "        [ 9.186200e-01, -9.600000e-02],\n",
              "        [ 6.048770e+00,  7.600000e-02],\n",
              "        ...,\n",
              "        [ 0.000000e+00,  0.000000e+00],\n",
              "        [ 0.000000e+00,  0.000000e+00],\n",
              "        [ 0.000000e+00,  0.000000e+00]],\n",
              "\n",
              "       [[ 0.000000e+00,  0.000000e+00],\n",
              "        [ 9.054500e-01, -1.160000e-01],\n",
              "        [ 1.135000e-02,  0.000000e+00],\n",
              "        ...,\n",
              "        [ 1.135000e-02, -6.000000e-03],\n",
              "        [ 1.134000e-02,  1.100000e-02],\n",
              "        [ 1.139000e-02,  1.600000e-02]],\n",
              "\n",
              "       [[ 0.000000e+00,  0.000000e+00],\n",
              "        [ 6.050030e+00, -3.360000e-01],\n",
              "        [ 1.099327e+01,  3.700000e-02],\n",
              "        ...,\n",
              "        [ 0.000000e+00,  0.000000e+00],\n",
              "        [ 0.000000e+00,  0.000000e+00],\n",
              "        [ 0.000000e+00,  0.000000e+00]],\n",
              "\n",
              "       ...,\n",
              "\n",
              "       [[ 0.000000e+00,  0.000000e+00],\n",
              "        [ 2.581000e-02,  8.800000e-02],\n",
              "        [ 6.022940e+00, -1.390000e-01],\n",
              "        ...,\n",
              "        [ 1.981560e+00, -1.400000e-02],\n",
              "        [ 2.649000e-02, -4.200000e-02],\n",
              "        [ 1.961920e+00, -7.400000e-02]],\n",
              "\n",
              "       [[ 0.000000e+00,  0.000000e+00],\n",
              "        [ 2.592227e+01,  5.300000e-02],\n",
              "        [ 8.999330e+00, -5.100000e-02],\n",
              "        ...,\n",
              "        [ 0.000000e+00,  0.000000e+00],\n",
              "        [ 0.000000e+00,  0.000000e+00],\n",
              "        [ 0.000000e+00,  0.000000e+00]],\n",
              "\n",
              "       [[ 0.000000e+00,  0.000000e+00],\n",
              "        [ 3.003470e+00, -2.240000e-01],\n",
              "        [ 4.001600e+00,  4.730000e-01],\n",
              "        ...,\n",
              "        [ 0.000000e+00,  0.000000e+00],\n",
              "        [ 0.000000e+00,  0.000000e+00],\n",
              "        [ 0.000000e+00,  0.000000e+00]]])"
            ]
          },
          "metadata": {},
          "execution_count": 16
        }
      ]
    },
    {
      "cell_type": "code",
      "source": [
        "y_train"
      ],
      "metadata": {
        "colab": {
          "base_uri": "https://localhost:8080/"
        },
        "id": "IwJSKTBOZYHX",
        "outputId": "e9001cd7-5ce2-44c7-f304-7ff1db374eb5"
      },
      "execution_count": 17,
      "outputs": [
        {
          "output_type": "execute_result",
          "data": {
            "text/plain": [
              "array([2, 2, 2, ..., 2, 2, 3])"
            ]
          },
          "metadata": {},
          "execution_count": 17
        }
      ]
    },
    {
      "cell_type": "code",
      "source": [
        "model = Sequential()\n",
        "model.add(LSTM(units=128, input_shape=(None, 2)))\n",
        "model.add(Dropout(0.5))\n",
        "model.add(Dense(64, activation='relu'))\n",
        "model.add(Dense(len(label_encoder.classes_), activation='softmax'))\n",
        "\n",
        "model.compile(loss='sparse_categorical_crossentropy', optimizer='adam', metrics=['accuracy'])\n",
        "\n",
        "early_stopping = EarlyStopping(monitor='val_loss', patience=3)\n",
        "tensorboard = TensorBoard(log_dir='./logs')\n",
        "\n",
        "model.fit(X_train, y_train, epochs=10, batch_size=256, validation_split=0.2, callbacks=[early_stopping, tensorboard])\n"
      ],
      "metadata": {
        "colab": {
          "base_uri": "https://localhost:8080/"
        },
        "id": "Gzxh-4lHZchU",
        "outputId": "6b49fc19-c97a-4d9d-e41c-2b8eaa7dd036"
      },
      "execution_count": 18,
      "outputs": [
        {
          "output_type": "stream",
          "name": "stdout",
          "text": [
            "Epoch 1/10\n",
            "13/13 [==============================] - 60s 4s/step - loss: 1.2704 - accuracy: 0.7286 - val_loss: 0.6924 - val_accuracy: 0.7921\n",
            "Epoch 2/10\n",
            "13/13 [==============================] - 28s 2s/step - loss: 0.7149 - accuracy: 0.7828 - val_loss: 0.6512 - val_accuracy: 0.7921\n",
            "Epoch 3/10\n",
            "13/13 [==============================] - 29s 2s/step - loss: 0.6930 - accuracy: 0.7832 - val_loss: 0.6550 - val_accuracy: 0.7921\n",
            "Epoch 4/10\n",
            "13/13 [==============================] - 31s 2s/step - loss: 0.6766 - accuracy: 0.7832 - val_loss: 0.6463 - val_accuracy: 0.7921\n",
            "Epoch 5/10\n",
            "13/13 [==============================] - 30s 2s/step - loss: 0.6794 - accuracy: 0.7828 - val_loss: 0.6577 - val_accuracy: 0.7921\n",
            "Epoch 6/10\n",
            "13/13 [==============================] - 30s 2s/step - loss: 0.6771 - accuracy: 0.7832 - val_loss: 0.6457 - val_accuracy: 0.7921\n",
            "Epoch 7/10\n",
            "13/13 [==============================] - 29s 2s/step - loss: 0.6720 - accuracy: 0.7832 - val_loss: 0.6459 - val_accuracy: 0.7921\n",
            "Epoch 8/10\n",
            "13/13 [==============================] - 28s 2s/step - loss: 0.6710 - accuracy: 0.7828 - val_loss: 0.6436 - val_accuracy: 0.7921\n",
            "Epoch 9/10\n",
            "13/13 [==============================] - 32s 2s/step - loss: 0.6727 - accuracy: 0.7828 - val_loss: 0.6432 - val_accuracy: 0.7921\n",
            "Epoch 10/10\n",
            "13/13 [==============================] - 28s 2s/step - loss: 0.6662 - accuracy: 0.7828 - val_loss: 0.6406 - val_accuracy: 0.7921\n"
          ]
        },
        {
          "output_type": "execute_result",
          "data": {
            "text/plain": [
              "<keras.src.callbacks.History at 0x789654023790>"
            ]
          },
          "metadata": {},
          "execution_count": 18
        }
      ]
    },
    {
      "cell_type": "code",
      "source": [
        "model = Sequential()\n",
        "model.add(LSTM(128, input_shape=(None, 2)))\n",
        "model.add(Dropout(0.5))\n",
        "model.add(Dense(64, activation='relu'))\n",
        "model.add(Dense(len(label_encoder.classes_), activation='softmax'))\n",
        "\n",
        "model.compile(loss='sparse_categorical_crossentropy', optimizer='adam', metrics=['accuracy'])\n",
        "\n",
        "model.fit(np.array(X_train), np.array(y_train), epochs=10, batch_size=256, validation_split=0.2, callbacks=[EarlyStopping(patience=3), TensorBoard()])\n",
        "\n",
        "loss, accuracy = model.evaluate(np.array(X_test), np.array(y_test))\n",
        "print(\"Test Loss:\", loss)\n",
        "print(\"Test Accuracy:\", accuracy)"
      ],
      "metadata": {
        "colab": {
          "base_uri": "https://localhost:8080/"
        },
        "id": "wV7ItrcNa3rH",
        "outputId": "8e46deb4-00d6-40c9-a66d-f6afaf2bc4c6"
      },
      "execution_count": 19,
      "outputs": [
        {
          "output_type": "stream",
          "name": "stdout",
          "text": [
            "Epoch 1/10\n",
            "13/13 [==============================] - 32s 2s/step - loss: 1.3004 - accuracy: 0.7439 - val_loss: 0.7512 - val_accuracy: 0.7921\n",
            "Epoch 2/10\n",
            "13/13 [==============================] - 32s 2s/step - loss: 0.7585 - accuracy: 0.7825 - val_loss: 0.6751 - val_accuracy: 0.7921\n",
            "Epoch 3/10\n",
            "13/13 [==============================] - 28s 2s/step - loss: 0.7032 - accuracy: 0.7825 - val_loss: 0.6550 - val_accuracy: 0.7921\n",
            "Epoch 4/10\n",
            "13/13 [==============================] - 28s 2s/step - loss: 0.6913 - accuracy: 0.7838 - val_loss: 0.6488 - val_accuracy: 0.7921\n",
            "Epoch 5/10\n",
            "13/13 [==============================] - 29s 2s/step - loss: 0.6806 - accuracy: 0.7838 - val_loss: 0.6665 - val_accuracy: 0.7921\n",
            "Epoch 6/10\n",
            "13/13 [==============================] - 28s 2s/step - loss: 0.6829 - accuracy: 0.7828 - val_loss: 0.6454 - val_accuracy: 0.7921\n",
            "Epoch 7/10\n",
            "13/13 [==============================] - 29s 2s/step - loss: 0.6781 - accuracy: 0.7832 - val_loss: 0.6566 - val_accuracy: 0.7921\n",
            "Epoch 8/10\n",
            "13/13 [==============================] - 29s 2s/step - loss: 0.6697 - accuracy: 0.7832 - val_loss: 0.6497 - val_accuracy: 0.7921\n",
            "Epoch 9/10\n",
            "13/13 [==============================] - 28s 2s/step - loss: 0.6788 - accuracy: 0.7828 - val_loss: 0.6541 - val_accuracy: 0.7921\n",
            "31/31 [==============================] - 9s 276ms/step - loss: 0.7148 - accuracy: 0.7602\n",
            "Test Loss: 0.7147906422615051\n",
            "Test Accuracy: 0.7602040767669678\n"
          ]
        }
      ]
    },
    {
      "cell_type": "code",
      "source": [
        "model = Sequential()\n",
        "model.add(LSTM(units=128, input_shape=(None, 2), return_sequences=True))\n",
        "model.add(Dropout(0.2))\n",
        "model.add(LSTM(units=64))\n",
        "model.add(Dropout(0.2))\n",
        "model.add(Dense(64, activation='relu'))\n",
        "model.add(Dense(len(label_encoder.classes_), activation='softmax'))\n",
        "\n",
        "model.compile(loss='sparse_categorical_crossentropy', optimizer='adam', metrics=['accuracy'])\n",
        "\n",
        "early_stopping = EarlyStopping(monitor='val_loss', patience=3)\n",
        "tensorboard = TensorBoard(log_dir='./logs')\n",
        "\n",
        "model.fit(X_train, y_train, epochs=10, batch_size=256, validation_split=0.2, callbacks=[early_stopping, tensorboard])"
      ],
      "metadata": {
        "colab": {
          "base_uri": "https://localhost:8080/"
        },
        "id": "R9hEvygvHkiy",
        "outputId": "e78b5c04-b6fe-466b-f336-8651b6ed5673"
      },
      "execution_count": 20,
      "outputs": [
        {
          "output_type": "stream",
          "name": "stdout",
          "text": [
            "Epoch 1/10\n",
            "13/13 [==============================] - 63s 4s/step - loss: 1.1372 - accuracy: 0.7710 - val_loss: 0.6918 - val_accuracy: 0.7921\n",
            "Epoch 2/10\n",
            "13/13 [==============================] - 57s 4s/step - loss: 0.7008 - accuracy: 0.7838 - val_loss: 0.6600 - val_accuracy: 0.7921\n",
            "Epoch 3/10\n",
            "13/13 [==============================] - 61s 5s/step - loss: 0.6891 - accuracy: 0.7832 - val_loss: 0.6569 - val_accuracy: 0.7921\n",
            "Epoch 4/10\n",
            "13/13 [==============================] - 61s 5s/step - loss: 0.6807 - accuracy: 0.7838 - val_loss: 0.6585 - val_accuracy: 0.7921\n",
            "Epoch 5/10\n",
            "13/13 [==============================] - 57s 4s/step - loss: 0.6806 - accuracy: 0.7838 - val_loss: 0.6538 - val_accuracy: 0.7921\n",
            "Epoch 6/10\n",
            "13/13 [==============================] - 57s 4s/step - loss: 0.6765 - accuracy: 0.7838 - val_loss: 0.6571 - val_accuracy: 0.7921\n",
            "Epoch 7/10\n",
            "13/13 [==============================] - 61s 5s/step - loss: 0.6733 - accuracy: 0.7838 - val_loss: 0.6568 - val_accuracy: 0.7921\n",
            "Epoch 8/10\n",
            "13/13 [==============================] - 60s 5s/step - loss: 0.6780 - accuracy: 0.7838 - val_loss: 0.6490 - val_accuracy: 0.7921\n",
            "Epoch 9/10\n",
            "13/13 [==============================] - 56s 4s/step - loss: 0.6735 - accuracy: 0.7838 - val_loss: 0.6560 - val_accuracy: 0.7921\n",
            "Epoch 10/10\n",
            "13/13 [==============================] - 60s 5s/step - loss: 0.6700 - accuracy: 0.7838 - val_loss: 0.6459 - val_accuracy: 0.7921\n"
          ]
        },
        {
          "output_type": "execute_result",
          "data": {
            "text/plain": [
              "<keras.src.callbacks.History at 0x7896472f4cd0>"
            ]
          },
          "metadata": {},
          "execution_count": 20
        }
      ]
    },
    {
      "cell_type": "code",
      "source": [
        "model = Sequential()\n",
        "model.add(LSTM(units=128, input_shape=(None, 2), return_sequences=True))\n",
        "model.add(Dropout(0.2))\n",
        "model.add(LSTM(units=64))\n",
        "model.add(Dropout(0.2))\n",
        "model.add(Dense(64, activation='relu'))\n",
        "model.add(Dense(len(label_encoder.classes_), activation='softmax'))\n",
        "\n",
        "model.compile(loss='sparse_categorical_crossentropy', optimizer='adam', metrics=['accuracy'])\n",
        "\n",
        "early_stopping = EarlyStopping(monitor='val_loss', patience=3)\n",
        "tensorboard = TensorBoard(log_dir='./logs')\n",
        "\n",
        "history = model.fit(X_train, y_train, epochs=20, batch_size=256, validation_split=0.2, callbacks=[early_stopping, tensorboard])\n",
        "\n",
        "loss, accuracy = model.evaluate(X_test, y_test)\n",
        "print(\"Test Loss:\", loss)\n",
        "print(\"Test Accuracy:\", accuracy)\n",
        "\n"
      ],
      "metadata": {
        "colab": {
          "base_uri": "https://localhost:8080/"
        },
        "id": "65ISiYcaDv1q",
        "outputId": "c2f9e262-3f90-4121-e481-239ce935ac1b"
      },
      "execution_count": 21,
      "outputs": [
        {
          "output_type": "stream",
          "name": "stdout",
          "text": [
            "Epoch 1/20\n",
            "13/13 [==============================] - 70s 5s/step - loss: 1.3308 - accuracy: 0.7047 - val_loss: 0.7270 - val_accuracy: 0.7921\n",
            "Epoch 2/20\n",
            "13/13 [==============================] - 56s 4s/step - loss: 0.7169 - accuracy: 0.7832 - val_loss: 0.6647 - val_accuracy: 0.7921\n",
            "Epoch 3/20\n",
            "13/13 [==============================] - 57s 4s/step - loss: 0.6908 - accuracy: 0.7832 - val_loss: 0.6543 - val_accuracy: 0.7921\n",
            "Epoch 4/20\n",
            "13/13 [==============================] - 59s 5s/step - loss: 0.6803 - accuracy: 0.7832 - val_loss: 0.6558 - val_accuracy: 0.7921\n",
            "Epoch 5/20\n",
            "13/13 [==============================] - 62s 5s/step - loss: 0.6842 - accuracy: 0.7832 - val_loss: 0.6512 - val_accuracy: 0.7921\n",
            "Epoch 6/20\n",
            "13/13 [==============================] - 58s 5s/step - loss: 0.6788 - accuracy: 0.7835 - val_loss: 0.6563 - val_accuracy: 0.7921\n",
            "Epoch 7/20\n",
            "13/13 [==============================] - 58s 4s/step - loss: 0.6779 - accuracy: 0.7835 - val_loss: 0.6480 - val_accuracy: 0.7921\n",
            "Epoch 8/20\n",
            "13/13 [==============================] - 57s 4s/step - loss: 0.6704 - accuracy: 0.7835 - val_loss: 0.6439 - val_accuracy: 0.7921\n",
            "Epoch 9/20\n",
            "13/13 [==============================] - 59s 4s/step - loss: 0.6690 - accuracy: 0.7838 - val_loss: 0.6447 - val_accuracy: 0.7921\n",
            "Epoch 10/20\n",
            "13/13 [==============================] - 57s 4s/step - loss: 0.6666 - accuracy: 0.7838 - val_loss: 0.6411 - val_accuracy: 0.7921\n",
            "Epoch 11/20\n",
            "13/13 [==============================] - 58s 5s/step - loss: 0.6659 - accuracy: 0.7838 - val_loss: 0.6417 - val_accuracy: 0.7921\n",
            "Epoch 12/20\n",
            "13/13 [==============================] - 57s 4s/step - loss: 0.6727 - accuracy: 0.7838 - val_loss: 0.6472 - val_accuracy: 0.7921\n",
            "Epoch 13/20\n",
            "13/13 [==============================] - 60s 5s/step - loss: 0.6613 - accuracy: 0.7838 - val_loss: 0.6461 - val_accuracy: 0.7921\n",
            "31/31 [==============================] - 11s 353ms/step - loss: 0.7157 - accuracy: 0.7602\n",
            "Test Loss: 0.7157434225082397\n",
            "Test Accuracy: 0.7602040767669678\n"
          ]
        }
      ]
    },
    {
      "cell_type": "code",
      "source": [
        "y_pred_train = np.argmax(model.predict(X_train), axis=1)\n",
        "y_pred_test = np.argmax(model.predict(X_test), axis=1)\n",
        "\n",
        "print(\"Training Metrics:\")\n",
        "print(classification_report(y_train, y_pred_train))\n",
        "\n",
        "print(\"Test Metrics:\")\n",
        "print(classification_report(y_test, y_pred_test))\n",
        "\n",
        "plt.plot(history.history['accuracy'], label='accuracy')\n",
        "plt.plot(history.history['val_accuracy'], label='val_accuracy')\n",
        "plt.title('Model Accuracy')\n",
        "plt.xlabel('Epoch')\n",
        "plt.ylabel('Accuracy')\n",
        "plt.legend()\n",
        "plt.show()"
      ],
      "metadata": {
        "colab": {
          "base_uri": "https://localhost:8080/",
          "height": 1000
        },
        "id": "RaMF5yM1ECjT",
        "outputId": "c2a826a4-bd45-49bf-ecd2-7e6c21fe404a"
      },
      "execution_count": 22,
      "outputs": [
        {
          "output_type": "stream",
          "name": "stdout",
          "text": [
            "123/123 [==============================] - 40s 314ms/step\n",
            "31/31 [==============================] - 9s 276ms/step\n",
            "Training Metrics:\n",
            "              precision    recall  f1-score   support\n",
            "\n",
            "           0       0.00      0.00      0.00       384\n",
            "           2       0.79      1.00      0.88      3077\n",
            "           3       1.00      0.00      0.01       459\n",
            "\n",
            "    accuracy                           0.79      3920\n",
            "   macro avg       0.60      0.33      0.30      3920\n",
            "weighted avg       0.73      0.79      0.69      3920\n",
            "\n",
            "Test Metrics:\n",
            "              precision    recall  f1-score   support\n",
            "\n",
            "           0       0.00      0.00      0.00       114\n",
            "           2       0.76      1.00      0.86       745\n",
            "           3       0.00      0.00      0.00       121\n",
            "\n",
            "    accuracy                           0.76       980\n",
            "   macro avg       0.25      0.33      0.29       980\n",
            "weighted avg       0.58      0.76      0.66       980\n",
            "\n"
          ]
        },
        {
          "output_type": "stream",
          "name": "stderr",
          "text": [
            "/usr/local/lib/python3.10/dist-packages/sklearn/metrics/_classification.py:1344: UndefinedMetricWarning: Precision and F-score are ill-defined and being set to 0.0 in labels with no predicted samples. Use `zero_division` parameter to control this behavior.\n",
            "  _warn_prf(average, modifier, msg_start, len(result))\n",
            "/usr/local/lib/python3.10/dist-packages/sklearn/metrics/_classification.py:1344: UndefinedMetricWarning: Precision and F-score are ill-defined and being set to 0.0 in labels with no predicted samples. Use `zero_division` parameter to control this behavior.\n",
            "  _warn_prf(average, modifier, msg_start, len(result))\n",
            "/usr/local/lib/python3.10/dist-packages/sklearn/metrics/_classification.py:1344: UndefinedMetricWarning: Precision and F-score are ill-defined and being set to 0.0 in labels with no predicted samples. Use `zero_division` parameter to control this behavior.\n",
            "  _warn_prf(average, modifier, msg_start, len(result))\n",
            "/usr/local/lib/python3.10/dist-packages/sklearn/metrics/_classification.py:1344: UndefinedMetricWarning: Precision and F-score are ill-defined and being set to 0.0 in labels with no predicted samples. Use `zero_division` parameter to control this behavior.\n",
            "  _warn_prf(average, modifier, msg_start, len(result))\n",
            "/usr/local/lib/python3.10/dist-packages/sklearn/metrics/_classification.py:1344: UndefinedMetricWarning: Precision and F-score are ill-defined and being set to 0.0 in labels with no predicted samples. Use `zero_division` parameter to control this behavior.\n",
            "  _warn_prf(average, modifier, msg_start, len(result))\n",
            "/usr/local/lib/python3.10/dist-packages/sklearn/metrics/_classification.py:1344: UndefinedMetricWarning: Precision and F-score are ill-defined and being set to 0.0 in labels with no predicted samples. Use `zero_division` parameter to control this behavior.\n",
            "  _warn_prf(average, modifier, msg_start, len(result))\n"
          ]
        },
        {
          "output_type": "display_data",
          "data": {
            "text/plain": [
              "<Figure size 640x480 with 1 Axes>"
            ],
            "image/png": "[encoded data removed]"
          },
          "metadata": {}
        }
      ]
    },
    {
      "cell_type": "code",
      "source": [
        "model = Sequential()\n",
        "model.add(LSTM(units=256, input_shape=(None, 2), return_sequences=True))\n",
        "model.add(Dropout(0.5))\n",
        "model.add(LSTM(units=128))\n",
        "model.add(Dropout(0.5))\n",
        "model.add(Dense(128, activation='relu'))\n",
        "model.add(BatchNormalization())\n",
        "model.add(Dense(len(label_encoder.classes_), activation='softmax'))\n",
        "\n",
        "model.compile(loss='sparse_categorical_crossentropy', optimizer='adam', metrics=['accuracy'])\n",
        "\n",
        "reduce_lr = ReduceLROnPlateau(monitor='val_loss', factor=0.2, patience=2, min_lr=0.0001)\n",
        "\n",
        "history = model.fit(X_train, y_train, epochs=20, batch_size=256, validation_split=0.2, callbacks=[EarlyStopping(patience=3), TensorBoard(), reduce_lr])\n",
        "\n",
        "loss, accuracy = model.evaluate(X_test, y_test)\n",
        "print(\"Test Loss:\", loss)\n",
        "print(\"Test Accuracy:\", accuracy)\n",
        "\n",
        "\n",
        "plt.plot(history.history['accuracy'], label='accuracy')\n",
        "plt.plot(history.history['val_accuracy'], label='val_accuracy')\n",
        "plt.xlabel('Epoch')\n",
        "plt.ylabel('Accuracy')\n",
        "plt.legend()\n",
        "plt.show()"
      ],
      "metadata": {
        "colab": {
          "base_uri": "https://localhost:8080/",
          "height": 1000
        },
        "id": "KZN_KDOfMNDY",
        "outputId": "a262d819-c128-4688-b74b-2ac6121164a1"
      },
      "execution_count": 24,
      "outputs": [
        {
          "output_type": "stream",
          "name": "stdout",
          "text": [
            "Drive already mounted at /content/drive; to attempt to forcibly remount, call drive.mount(\"/content/drive\", force_remount=True).\n",
            "Epoch 1/20\n",
            "13/13 [==============================] - 167s 12s/step - loss: 1.7337 - accuracy: 0.4621 - val_loss: 1.4998 - val_accuracy: 0.7105 - lr: 0.0010\n",
            "Epoch 2/20\n",
            "13/13 [==============================] - 172s 13s/step - loss: 1.5379 - accuracy: 0.6272 - val_loss: 1.3722 - val_accuracy: 0.7844 - lr: 0.0010\n",
            "Epoch 3/20\n",
            "13/13 [==============================] - 159s 12s/step - loss: 1.3371 - accuracy: 0.6633 - val_loss: 1.2260 - val_accuracy: 0.7883 - lr: 0.0010\n",
            "Epoch 4/20\n",
            "13/13 [==============================] - 151s 11s/step - loss: 1.0848 - accuracy: 0.7226 - val_loss: 1.0983 - val_accuracy: 0.7921 - lr: 0.0010\n",
            "Epoch 5/20\n",
            "13/13 [==============================] - 159s 12s/step - loss: 0.9037 - accuracy: 0.7704 - val_loss: 0.9860 - val_accuracy: 0.7921 - lr: 0.0010\n",
            "Epoch 6/20\n",
            "13/13 [==============================] - 156s 12s/step - loss: 0.8483 - accuracy: 0.7599 - val_loss: 0.8869 - val_accuracy: 0.7921 - lr: 0.0010\n",
            "Epoch 7/20\n",
            "13/13 [==============================] - 157s 12s/step - loss: 0.7497 - accuracy: 0.7873 - val_loss: 0.8311 - val_accuracy: 0.7921 - lr: 0.0010\n",
            "Epoch 8/20\n",
            "13/13 [==============================] - 156s 12s/step - loss: 0.6758 - accuracy: 0.7959 - val_loss: 0.7607 - val_accuracy: 0.7921 - lr: 0.0010\n",
            "Epoch 9/20\n",
            "13/13 [==============================] - 156s 12s/step - loss: 0.6158 - accuracy: 0.7972 - val_loss: 0.7049 - val_accuracy: 0.7921 - lr: 0.0010\n",
            "Epoch 10/20\n",
            "13/13 [==============================] - 159s 12s/step - loss: 0.5738 - accuracy: 0.8084 - val_loss: 0.6851 - val_accuracy: 0.7921 - lr: 0.0010\n",
            "Epoch 11/20\n",
            "13/13 [==============================] - 159s 12s/step - loss: 0.5406 - accuracy: 0.8099 - val_loss: 0.6564 - val_accuracy: 0.7921 - lr: 0.0010\n",
            "Epoch 12/20\n",
            "13/13 [==============================] - 155s 12s/step - loss: 0.5276 - accuracy: 0.8039 - val_loss: 0.6552 - val_accuracy: 0.7921 - lr: 0.0010\n",
            "Epoch 13/20\n",
            "13/13 [==============================] - 157s 12s/step - loss: 0.5113 - accuracy: 0.8064 - val_loss: 0.7234 - val_accuracy: 0.7921 - lr: 0.0010\n",
            "Epoch 14/20\n",
            "13/13 [==============================] - 155s 12s/step - loss: 0.5850 - accuracy: 0.7867 - val_loss: 0.6207 - val_accuracy: 0.7921 - lr: 0.0010\n",
            "Epoch 15/20\n",
            "13/13 [==============================] - 156s 12s/step - loss: 0.5174 - accuracy: 0.8042 - val_loss: 0.6486 - val_accuracy: 0.7921 - lr: 0.0010\n",
            "Epoch 16/20\n",
            "13/13 [==============================] - 158s 12s/step - loss: 0.5058 - accuracy: 0.8064 - val_loss: 0.6540 - val_accuracy: 0.7921 - lr: 0.0010\n",
            "Epoch 17/20\n",
            "13/13 [==============================] - 156s 12s/step - loss: 0.4992 - accuracy: 0.8058 - val_loss: 0.6362 - val_accuracy: 0.7921 - lr: 2.0000e-04\n",
            "31/31 [==============================] - 26s 835ms/step - loss: 0.7151 - accuracy: 0.7602\n",
            "Test Loss: 0.7150967121124268\n",
            "Test Accuracy: 0.7602040767669678\n"
          ]
        },
        {
          "output_type": "display_data",
          "data": {
            "text/plain": [
              "<Figure size 640x480 with 1 Axes>"
            ],
            "image/png": "[encoded data removed]"
          },
          "metadata": {}
        }
      ]
    },
    {
      "cell_type": "code",
      "source": [
        "y_pred_train = np.argmax(model.predict(X_train), axis=1)\n",
        "y_pred_test = np.argmax(model.predict(X_test), axis=1)\n",
        "\n",
        "print(\"Training Metrics:\")\n",
        "print(classification_report(y_train, y_pred_train))\n",
        "\n",
        "print(\"Test Metrics:\")\n",
        "print(classification_report(y_test, y_pred_test))"
      ],
      "metadata": {
        "colab": {
          "base_uri": "https://localhost:8080/"
        },
        "id": "oizeaIWVItwn",
        "outputId": "5e4b3336-4c32-4406-92ca-1a00d9502f93"
      },
      "execution_count": 25,
      "outputs": [
        {
          "output_type": "stream",
          "name": "stdout",
          "text": [
            "123/123 [==============================] - 112s 885ms/step\n",
            "31/31 [==============================] - 25s 812ms/step\n",
            "Training Metrics:\n",
            "              precision    recall  f1-score   support\n",
            "\n",
            "           0       0.00      0.00      0.00       384\n",
            "           2       0.78      1.00      0.88      3077\n",
            "           3       0.00      0.00      0.00       459\n",
            "\n",
            "    accuracy                           0.78      3920\n",
            "   macro avg       0.26      0.33      0.29      3920\n",
            "weighted avg       0.62      0.78      0.69      3920\n",
            "\n",
            "Test Metrics:\n",
            "              precision    recall  f1-score   support\n",
            "\n",
            "           0       0.00      0.00      0.00       114\n",
            "           2       0.76      1.00      0.86       745\n",
            "           3       0.00      0.00      0.00       121\n",
            "\n",
            "    accuracy                           0.76       980\n",
            "   macro avg       0.25      0.33      0.29       980\n",
            "weighted avg       0.58      0.76      0.66       980\n",
            "\n"
          ]
        },
        {
          "output_type": "stream",
          "name": "stderr",
          "text": [
            "/usr/local/lib/python3.10/dist-packages/sklearn/metrics/_classification.py:1344: UndefinedMetricWarning: Precision and F-score are ill-defined and being set to 0.0 in labels with no predicted samples. Use `zero_division` parameter to control this behavior.\n",
            "  _warn_prf(average, modifier, msg_start, len(result))\n",
            "/usr/local/lib/python3.10/dist-packages/sklearn/metrics/_classification.py:1344: UndefinedMetricWarning: Precision and F-score are ill-defined and being set to 0.0 in labels with no predicted samples. Use `zero_division` parameter to control this behavior.\n",
            "  _warn_prf(average, modifier, msg_start, len(result))\n",
            "/usr/local/lib/python3.10/dist-packages/sklearn/metrics/_classification.py:1344: UndefinedMetricWarning: Precision and F-score are ill-defined and being set to 0.0 in labels with no predicted samples. Use `zero_division` parameter to control this behavior.\n",
            "  _warn_prf(average, modifier, msg_start, len(result))\n",
            "/usr/local/lib/python3.10/dist-packages/sklearn/metrics/_classification.py:1344: UndefinedMetricWarning: Precision and F-score are ill-defined and being set to 0.0 in labels with no predicted samples. Use `zero_division` parameter to control this behavior.\n",
            "  _warn_prf(average, modifier, msg_start, len(result))\n",
            "/usr/local/lib/python3.10/dist-packages/sklearn/metrics/_classification.py:1344: UndefinedMetricWarning: Precision and F-score are ill-defined and being set to 0.0 in labels with no predicted samples. Use `zero_division` parameter to control this behavior.\n",
            "  _warn_prf(average, modifier, msg_start, len(result))\n",
            "/usr/local/lib/python3.10/dist-packages/sklearn/metrics/_classification.py:1344: UndefinedMetricWarning: Precision and F-score are ill-defined and being set to 0.0 in labels with no predicted samples. Use `zero_division` parameter to control this behavior.\n",
            "  _warn_prf(average, modifier, msg_start, len(result))\n"
          ]
        }
      ]
    }
  ],
  "metadata": {
    "kernelspec": {
      "display_name": "Python 3",
      "language": "python",
      "name": "python3"
    },
    "language_info": {
      "codemirror_mode": {
        "name": "ipython",
        "version": 3
      },
      "file_extension": ".py",
      "mimetype": "text/x-python",
      "name": "python",
      "nbconvert_exporter": "python",
      "pygments_lexer": "ipython3",
      "version": "3.6.1"
    },
    "colab": {
      "provenance": []
    }
  },
  "nbformat": 4,
  "nbformat_minor": 0
}